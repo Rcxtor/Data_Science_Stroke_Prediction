{
 "cells": [
  {
   "cell_type": "markdown",
   "id": "c3fa26e2",
   "metadata": {},
   "source": [
    "Title: Brain Stroke Prediction\n",
    "---\n",
    "Name: Saif Ahmmed Sifat\n",
    "\n",
    "ID: 21101341\n",
    "\n",
    "Section: CSE437 01\n",
    "\n",
    "Group: 33\n"
   ]
  },
  {
   "cell_type": "markdown",
   "id": "d5a5589b",
   "metadata": {},
   "source": [
    "**DATA INSPECTION**\n",
    "---\n",
    "---"
   ]
  },
  {
   "cell_type": "code",
   "execution_count": 1,
   "id": "7c8af5b3",
   "metadata": {},
   "outputs": [
    {
     "data": {
      "text/html": [
       "<div>\n",
       "<style scoped>\n",
       "    .dataframe tbody tr th:only-of-type {\n",
       "        vertical-align: middle;\n",
       "    }\n",
       "\n",
       "    .dataframe tbody tr th {\n",
       "        vertical-align: top;\n",
       "    }\n",
       "\n",
       "    .dataframe thead th {\n",
       "        text-align: right;\n",
       "    }\n",
       "</style>\n",
       "<table border=\"1\" class=\"dataframe\">\n",
       "  <thead>\n",
       "    <tr style=\"text-align: right;\">\n",
       "      <th></th>\n",
       "      <th>gender</th>\n",
       "      <th>age</th>\n",
       "      <th>hypertension</th>\n",
       "      <th>heart_disease</th>\n",
       "      <th>ever_married</th>\n",
       "      <th>work_type</th>\n",
       "      <th>Residence_type</th>\n",
       "      <th>avg_glucose_level</th>\n",
       "      <th>bmi</th>\n",
       "      <th>smoking_status</th>\n",
       "      <th>stroke</th>\n",
       "    </tr>\n",
       "  </thead>\n",
       "  <tbody>\n",
       "    <tr>\n",
       "      <th>0</th>\n",
       "      <td>Male</td>\n",
       "      <td>67.0</td>\n",
       "      <td>0</td>\n",
       "      <td>1</td>\n",
       "      <td>Yes</td>\n",
       "      <td>Private</td>\n",
       "      <td>Urban</td>\n",
       "      <td>228.69</td>\n",
       "      <td>36.6</td>\n",
       "      <td>formerly smoked</td>\n",
       "      <td>1</td>\n",
       "    </tr>\n",
       "    <tr>\n",
       "      <th>1</th>\n",
       "      <td>Male</td>\n",
       "      <td>80.0</td>\n",
       "      <td>0</td>\n",
       "      <td>1</td>\n",
       "      <td>Yes</td>\n",
       "      <td>Private</td>\n",
       "      <td>Rural</td>\n",
       "      <td>105.92</td>\n",
       "      <td>32.5</td>\n",
       "      <td>never smoked</td>\n",
       "      <td>1</td>\n",
       "    </tr>\n",
       "    <tr>\n",
       "      <th>2</th>\n",
       "      <td>Female</td>\n",
       "      <td>49.0</td>\n",
       "      <td>0</td>\n",
       "      <td>0</td>\n",
       "      <td>Yes</td>\n",
       "      <td>Private</td>\n",
       "      <td>Urban</td>\n",
       "      <td>171.23</td>\n",
       "      <td>34.4</td>\n",
       "      <td>smokes</td>\n",
       "      <td>1</td>\n",
       "    </tr>\n",
       "    <tr>\n",
       "      <th>3</th>\n",
       "      <td>Female</td>\n",
       "      <td>79.0</td>\n",
       "      <td>1</td>\n",
       "      <td>0</td>\n",
       "      <td>Yes</td>\n",
       "      <td>Self-employed</td>\n",
       "      <td>Rural</td>\n",
       "      <td>174.12</td>\n",
       "      <td>24.0</td>\n",
       "      <td>never smoked</td>\n",
       "      <td>1</td>\n",
       "    </tr>\n",
       "    <tr>\n",
       "      <th>4</th>\n",
       "      <td>Male</td>\n",
       "      <td>81.0</td>\n",
       "      <td>0</td>\n",
       "      <td>0</td>\n",
       "      <td>Yes</td>\n",
       "      <td>Private</td>\n",
       "      <td>Urban</td>\n",
       "      <td>186.21</td>\n",
       "      <td>29.0</td>\n",
       "      <td>formerly smoked</td>\n",
       "      <td>1</td>\n",
       "    </tr>\n",
       "  </tbody>\n",
       "</table>\n",
       "</div>"
      ],
      "text/plain": [
       "   gender   age  hypertension  heart_disease ever_married      work_type  \\\n",
       "0    Male  67.0             0              1          Yes        Private   \n",
       "1    Male  80.0             0              1          Yes        Private   \n",
       "2  Female  49.0             0              0          Yes        Private   \n",
       "3  Female  79.0             1              0          Yes  Self-employed   \n",
       "4    Male  81.0             0              0          Yes        Private   \n",
       "\n",
       "  Residence_type  avg_glucose_level   bmi   smoking_status  stroke  \n",
       "0          Urban             228.69  36.6  formerly smoked       1  \n",
       "1          Rural             105.92  32.5     never smoked       1  \n",
       "2          Urban             171.23  34.4           smokes       1  \n",
       "3          Rural             174.12  24.0     never smoked       1  \n",
       "4          Urban             186.21  29.0  formerly smoked       1  "
      ]
     },
     "execution_count": 1,
     "metadata": {},
     "output_type": "execute_result"
    }
   ],
   "source": [
    "import pandas as pd\n",
    "\n",
    "data = pd.read_csv('stroke_dataset.csv')\n",
    "data.head()"
   ]
  },
  {
   "cell_type": "code",
   "execution_count": 2,
   "id": "ec313b8c",
   "metadata": {},
   "outputs": [
    {
     "data": {
      "text/plain": [
       "gender                object\n",
       "age                  float64\n",
       "hypertension           int64\n",
       "heart_disease          int64\n",
       "ever_married          object\n",
       "work_type             object\n",
       "Residence_type        object\n",
       "avg_glucose_level    float64\n",
       "bmi                  float64\n",
       "smoking_status        object\n",
       "stroke                 int64\n",
       "dtype: object"
      ]
     },
     "execution_count": 2,
     "metadata": {},
     "output_type": "execute_result"
    }
   ],
   "source": [
    "#Data types\n",
    "data.dtypes"
   ]
  },
  {
   "cell_type": "code",
   "execution_count": 3,
   "id": "d30aec66",
   "metadata": {},
   "outputs": [
    {
     "data": {
      "text/plain": [
       "gender               2\n",
       "age                  0\n",
       "hypertension         0\n",
       "heart_disease        0\n",
       "ever_married         1\n",
       "work_type            2\n",
       "Residence_type       1\n",
       "avg_glucose_level    1\n",
       "bmi                  2\n",
       "smoking_status       1\n",
       "stroke               0\n",
       "dtype: int64"
      ]
     },
     "execution_count": 3,
     "metadata": {},
     "output_type": "execute_result"
    }
   ],
   "source": [
    "# Checking for total NULL values\n",
    "data.isnull().sum()"
   ]
  },
  {
   "cell_type": "code",
   "execution_count": 4,
   "id": "cf7033aa",
   "metadata": {},
   "outputs": [
    {
     "name": "stdout",
     "output_type": "stream",
     "text": [
      "      gender   age  hypertension  heart_disease ever_married      work_type  \\\n",
      "223      NaN  44.0             0              0          Yes       Govt_job   \n",
      "342      NaN  26.0             0              0          Yes        Private   \n",
      "883     Male  75.0             1              1          Yes  Self-employed   \n",
      "987     Male  27.0             0              0           No        Private   \n",
      "3508    Male  80.0             0              0          Yes  Self-employed   \n",
      "3593  Female  45.0             0              0          Yes       Govt_job   \n",
      "4544  Female  49.0             0              0          NaN        Private   \n",
      "4565  Female  58.0             0              0          Yes            NaN   \n",
      "4964  Female  78.0             0              0          Yes       Govt_job   \n",
      "4979    Male  40.0             0              0          Yes            NaN   \n",
      "\n",
      "     Residence_type  avg_glucose_level   bmi   smoking_status  stroke  \n",
      "223           Urban              57.33  24.6           smokes       0  \n",
      "342           Rural             120.31  22.3           smokes       0  \n",
      "883             NaN             195.03  28.7  formerly smoked       0  \n",
      "987           Rural              69.70   NaN     never smoked       0  \n",
      "3508          Rural             196.08   NaN  formerly smoked       0  \n",
      "3593          Rural              63.01  31.5              NaN       0  \n",
      "4544          Urban             206.53  44.5           smokes       0  \n",
      "4565          Urban              65.45  32.1     never smoked       0  \n",
      "4964          Urban                NaN  27.3           smokes       0  \n",
      "4979          Rural              83.94  30.0           smokes       0  \n"
     ]
    }
   ],
   "source": [
    "# Checking rows with NULL values\n",
    "nullRows = data[data.isnull().any(axis=1)]\n",
    "print(nullRows)"
   ]
  },
  {
   "cell_type": "code",
   "execution_count": 5,
   "id": "b7450c76",
   "metadata": {},
   "outputs": [
    {
     "name": "stdout",
     "output_type": "stream",
     "text": [
      "Unique values in: gender\n",
      "['Male' 'Female' nan] \n",
      "\n",
      "Unique values in: ever_married\n",
      "['Yes' 'No' nan 'yes' 'no'] \n",
      "\n",
      "Unique values in: work_type\n",
      "['Private' 'Self-employed' 'Govt_job' 'children' 'Govtjob' 'Selfemployed'\n",
      " nan] \n",
      "\n",
      "Unique values in: Residence_type\n",
      "['Urban' 'Rural' nan] \n",
      "\n",
      "Unique values in: smoking_status\n",
      "['formerly smoked' 'never smoked' 'smokes' 'Unknown' nan] \n",
      "\n"
     ]
    }
   ],
   "source": [
    "#Values present for each column // except for the float and int\n",
    "for col in ['gender', 'ever_married', 'work_type', 'Residence_type', 'smoking_status']:\n",
    "    print(\"Unique values in:\", col)\n",
    "    print(data[col].unique(),\"\\n\")"
   ]
  },
  {
   "cell_type": "code",
   "execution_count": 6,
   "id": "346bb577",
   "metadata": {},
   "outputs": [
    {
     "data": {
      "text/plain": [
       "(4984, 11)"
      ]
     },
     "execution_count": 6,
     "metadata": {},
     "output_type": "execute_result"
    }
   ],
   "source": [
    "#dataset shape\n",
    "data.shape"
   ]
  },
  {
   "cell_type": "markdown",
   "id": "c4540b0c",
   "metadata": {},
   "source": [
    "**Data Cleaning**\n",
    "---\n",
    "---"
   ]
  },
  {
   "cell_type": "code",
   "execution_count": 7,
   "id": "9004b09f",
   "metadata": {},
   "outputs": [
    {
     "name": "stdout",
     "output_type": "stream",
     "text": [
      "Unique values with counts:\n",
      " gender\n",
      "Female    2907\n",
      "Male      2075\n",
      "Name: count, dtype: int64 \n",
      "\n",
      "Number of null values in 'gender' column before replacement: 2 \n",
      "\n",
      "Number of null values in 'gender' column after replacement: 0 \n",
      "\n"
     ]
    },
    {
     "data": {
      "text/plain": [
       "(4982, 11)"
      ]
     },
     "execution_count": 7,
     "metadata": {},
     "output_type": "execute_result"
    }
   ],
   "source": [
    "#gender column cleaning\n",
    "unique_values_counts = data['gender'].value_counts()\n",
    "print(\"Unique values with counts:\\n\", unique_values_counts,'\\n')\n",
    "\n",
    "print(\"Number of null values in 'gender' column before replacement:\", data['gender'].isnull().sum(),'\\n')\n",
    "data = data.dropna(subset=['gender']) #drop row with gender value Null\n",
    "print(\"Number of null values in 'gender' column after replacement:\", data['gender'].isnull().sum(),'\\n')\n",
    "data.shape\n",
    "\n"
   ]
  },
  {
   "cell_type": "code",
   "execution_count": 8,
   "id": "b8940c3f",
   "metadata": {},
   "outputs": [
    {
     "name": "stdout",
     "output_type": "stream",
     "text": [
      "Rows with age <= 0:\n",
      "      gender   age  hypertension  heart_disease ever_married work_type  \\\n",
      "3707   Male -10.0             0              0           No  children   \n",
      "\n",
      "     Residence_type  avg_glucose_level   bmi smoking_status  stroke  \n",
      "3707          Rural               95.8  17.3        Unknown       0  \n"
     ]
    }
   ],
   "source": [
    "#age column fixing\n",
    "invalid_rows = data[data['age'] <= 0]\n",
    "\n",
    "if invalid_rows.empty:\n",
    "    print(\"There are no rows with age <= 0.\")\n",
    "else:\n",
    "    print(\"Rows with age <= 0:\\n\", invalid_rows)"
   ]
  },
  {
   "cell_type": "code",
   "execution_count": 9,
   "id": "a4753401",
   "metadata": {},
   "outputs": [
    {
     "name": "stdout",
     "output_type": "stream",
     "text": [
      "Predicted Age: 6\n"
     ]
    }
   ],
   "source": [
    "#age prediction // using randomforest\n",
    "from sklearn.ensemble import RandomForestRegressor\n",
    "from sklearn.compose import ColumnTransformer\n",
    "from sklearn.preprocessing import OneHotEncoder\n",
    "\n",
    "X = data[['gender', 'ever_married', 'work_type']]\n",
    "y = data['age']\n",
    "\n",
    "preprocessor = ColumnTransformer(\n",
    "    transformers=[\n",
    "        ('age', OneHotEncoder(), ['gender', 'ever_married', 'work_type'])\n",
    "    ])\n",
    "\n",
    "X_encoded = preprocessor.fit_transform(X)\n",
    "\n",
    "regressor = RandomForestRegressor()\n",
    "regressor.fit(X_encoded, y)\n",
    "\n",
    "parameters = {'gender': ['Male'], 'ever_married': ['No'], 'work_type': ['children']}\n",
    "input_data = pd.DataFrame(parameters)\n",
    "\n",
    "\n",
    "input_data_encoded = preprocessor.transform(input_data)\n",
    "\n",
    "\n",
    "predicted_age = regressor.predict(input_data_encoded)\n",
    "\n",
    "print(\"Predicted Age:\", int(predicted_age[0]))\n",
    "\n",
    "data.loc[data['age'] < 0, 'age'] = predicted_age"
   ]
  },
  {
   "cell_type": "code",
   "execution_count": 10,
   "id": "97d161f7",
   "metadata": {},
   "outputs": [
    {
     "name": "stdout",
     "output_type": "stream",
     "text": [
      "There are no rows with age <= 0.\n"
     ]
    }
   ],
   "source": [
    "#age after column fixing\n",
    "invalid_rows = data[data['age'] <= 0]\n",
    "\n",
    "if invalid_rows.empty:\n",
    "    print(\"There are no rows with age <= 0.\")\n",
    "else:\n",
    "    print(\"Rows with age <= 0:\\n\", invalid_rows)\n",
    "\n",
    "data['age']=data['age'].astype(int)\n"
   ]
  },
  {
   "cell_type": "code",
   "execution_count": 11,
   "id": "522601fd",
   "metadata": {},
   "outputs": [
    {
     "name": "stdout",
     "output_type": "stream",
     "text": [
      "Unique values with counts:\n",
      " ever_married\n",
      "Yes    3279\n",
      "No     1700\n",
      "yes       1\n",
      "no        1\n",
      "Name: count, dtype: int64 \n",
      "\n",
      "Unique values with counts:\n",
      " ever_married\n",
      "Yes    3280\n",
      "No     1701\n",
      "Name: count, dtype: int64 \n",
      "\n"
     ]
    }
   ],
   "source": [
    "#fixing ever_married column\n",
    "unique_values_counts = data['ever_married'].value_counts()\n",
    "print(\"Unique values with counts:\\n\", unique_values_counts,'\\n')\n",
    "\n",
    "data['ever_married'].replace({'yes': 'Yes', 'no': 'No'}, inplace=True)\n",
    "\n",
    "unique_values_counts = data['ever_married'].value_counts()\n",
    "print(\"Unique values with counts:\\n\", unique_values_counts,'\\n')\n"
   ]
  },
  {
   "cell_type": "code",
   "execution_count": 12,
   "id": "a3c97391",
   "metadata": {},
   "outputs": [
    {
     "name": "stdout",
     "output_type": "stream",
     "text": [
      "Unique values with counts:\n",
      " hypertension\n",
      "0    4501\n",
      "1     480\n",
      "2       1\n",
      "Name: count, dtype: int64 \n",
      "\n",
      "Unique values with counts After fixing:\n",
      " hypertension\n",
      "0    4502\n",
      "1     480\n",
      "Name: count, dtype: int64 \n",
      "\n"
     ]
    }
   ],
   "source": [
    "#detecting anomaly in hypertension column and fix\n",
    "unique_values_counts = data['hypertension'].value_counts()\n",
    "print(\"Unique values with counts:\\n\", unique_values_counts,'\\n')\n",
    "\n",
    "#replace the Value \"2\" with mode\n",
    "mode = data.loc[data['hypertension'] != 2, 'hypertension'].mode()[0]\n",
    "data.loc[data['hypertension'] == 2, 'hypertension'] = mode\n",
    "\n",
    "unique_values_counts = data['hypertension'].value_counts()\n",
    "print(\"Unique values with counts After fixing:\\n\", unique_values_counts,'\\n')"
   ]
  },
  {
   "cell_type": "code",
   "execution_count": 13,
   "id": "3b758b10",
   "metadata": {},
   "outputs": [
    {
     "name": "stdout",
     "output_type": "stream",
     "text": [
      "Unique values with counts:\n",
      " heart_disease\n",
      "0    4705\n",
      "1     276\n",
      "3       1\n",
      "Name: count, dtype: int64 \n",
      "\n",
      "Unique values with counts After fixing:\n",
      " heart_disease\n",
      "0    4706\n",
      "1     276\n",
      "Name: count, dtype: int64 \n",
      "\n"
     ]
    }
   ],
   "source": [
    "#detecting anomaly in heart_disease column and fix\n",
    "unique_values_counts = data['heart_disease'].value_counts()\n",
    "print(\"Unique values with counts:\\n\", unique_values_counts,'\\n')\n",
    "\n",
    "# #replace the Value \"3\" with mode\n",
    "mode = data.loc[data['heart_disease'] != 3, 'heart_disease'].mode()[0]\n",
    "data.loc[data['heart_disease'] == 3, 'heart_disease'] = mode\n",
    "\n",
    "unique_values_counts = data['heart_disease'].value_counts()\n",
    "print(\"Unique values with counts After fixing:\\n\", unique_values_counts,'\\n')"
   ]
  },
  {
   "cell_type": "code",
   "execution_count": 14,
   "id": "b64a4111",
   "metadata": {},
   "outputs": [
    {
     "name": "stdout",
     "output_type": "stream",
     "text": [
      "Number of null values in 'ever_married' column before cleaning: 1 \n",
      "\n",
      "Number of null values in 'ever_married' column after cleaning: 0 \n",
      "\n"
     ]
    }
   ],
   "source": [
    "#Fixing Null values in ever_married\n",
    "\n",
    "print(\"Number of null values in 'ever_married' column before cleaning:\", data['ever_married'].isnull().sum(),'\\n')\n",
    "data = data.dropna(subset=['ever_married'])\n",
    "\n",
    "print(\"Number of null values in 'ever_married' column after cleaning:\", data['ever_married'].isnull().sum(),'\\n')\n"
   ]
  },
  {
   "cell_type": "code",
   "execution_count": 15,
   "id": "a43d6697",
   "metadata": {},
   "outputs": [
    {
     "name": "stdout",
     "output_type": "stream",
     "text": [
      "Unique values with counts:\n",
      " work_type\n",
      "Private          2857\n",
      "Self-employed     805\n",
      "children          673\n",
      "Govt_job          641\n",
      "Govtjob             2\n",
      "Selfemployed        1\n",
      "Name: count, dtype: int64 \n",
      "\n",
      "Number of null values in 'work_type' column before cleaning: 2 \n",
      "\n"
     ]
    },
    {
     "data": {
      "text/html": [
       "<div>\n",
       "<style scoped>\n",
       "    .dataframe tbody tr th:only-of-type {\n",
       "        vertical-align: middle;\n",
       "    }\n",
       "\n",
       "    .dataframe tbody tr th {\n",
       "        vertical-align: top;\n",
       "    }\n",
       "\n",
       "    .dataframe thead th {\n",
       "        text-align: right;\n",
       "    }\n",
       "</style>\n",
       "<table border=\"1\" class=\"dataframe\">\n",
       "  <thead>\n",
       "    <tr style=\"text-align: right;\">\n",
       "      <th></th>\n",
       "      <th>gender</th>\n",
       "      <th>age</th>\n",
       "      <th>ever_married</th>\n",
       "    </tr>\n",
       "  </thead>\n",
       "  <tbody>\n",
       "    <tr>\n",
       "      <th>4565</th>\n",
       "      <td>Female</td>\n",
       "      <td>58</td>\n",
       "      <td>Yes</td>\n",
       "    </tr>\n",
       "    <tr>\n",
       "      <th>4979</th>\n",
       "      <td>Male</td>\n",
       "      <td>40</td>\n",
       "      <td>Yes</td>\n",
       "    </tr>\n",
       "  </tbody>\n",
       "</table>\n",
       "</div>"
      ],
      "text/plain": [
       "      gender  age ever_married\n",
       "4565  Female   58          Yes\n",
       "4979    Male   40          Yes"
      ]
     },
     "execution_count": 15,
     "metadata": {},
     "output_type": "execute_result"
    }
   ],
   "source": [
    "#work_type column fixing\n",
    "unique_values_counts = data['work_type'].value_counts()\n",
    "print(\"Unique values with counts:\\n\", unique_values_counts,'\\n')\n",
    "\n",
    "print(\"Number of null values in 'work_type' column before cleaning:\", data['work_type'].isnull().sum(),'\\n')\n",
    "\n",
    "null_row = data[data['work_type'].isnull()]\n",
    "\n",
    "gender_age_ever_married_null = null_row[['gender', 'age','ever_married']]\n",
    "\n",
    "gender_age_ever_married_null.head()\n"
   ]
  },
  {
   "cell_type": "code",
   "execution_count": 16,
   "id": "2ec68f2a",
   "metadata": {},
   "outputs": [
    {
     "data": {
      "text/html": [
       "<div>\n",
       "<style scoped>\n",
       "    .dataframe tbody tr th:only-of-type {\n",
       "        vertical-align: middle;\n",
       "    }\n",
       "\n",
       "    .dataframe tbody tr th {\n",
       "        vertical-align: top;\n",
       "    }\n",
       "\n",
       "    .dataframe thead th {\n",
       "        text-align: right;\n",
       "    }\n",
       "</style>\n",
       "<table border=\"1\" class=\"dataframe\">\n",
       "  <thead>\n",
       "    <tr style=\"text-align: right;\">\n",
       "      <th></th>\n",
       "      <th>age</th>\n",
       "      <th>gender</th>\n",
       "      <th>ever_married</th>\n",
       "      <th>work_type</th>\n",
       "    </tr>\n",
       "  </thead>\n",
       "  <tbody>\n",
       "    <tr>\n",
       "      <th>0</th>\n",
       "      <td>67</td>\n",
       "      <td>Male</td>\n",
       "      <td>Yes</td>\n",
       "      <td>Private</td>\n",
       "    </tr>\n",
       "    <tr>\n",
       "      <th>1</th>\n",
       "      <td>80</td>\n",
       "      <td>Male</td>\n",
       "      <td>Yes</td>\n",
       "      <td>Private</td>\n",
       "    </tr>\n",
       "    <tr>\n",
       "      <th>2</th>\n",
       "      <td>49</td>\n",
       "      <td>Female</td>\n",
       "      <td>Yes</td>\n",
       "      <td>Private</td>\n",
       "    </tr>\n",
       "    <tr>\n",
       "      <th>3</th>\n",
       "      <td>79</td>\n",
       "      <td>Female</td>\n",
       "      <td>Yes</td>\n",
       "      <td>Self-employed</td>\n",
       "    </tr>\n",
       "    <tr>\n",
       "      <th>4</th>\n",
       "      <td>81</td>\n",
       "      <td>Male</td>\n",
       "      <td>Yes</td>\n",
       "      <td>Private</td>\n",
       "    </tr>\n",
       "  </tbody>\n",
       "</table>\n",
       "</div>"
      ],
      "text/plain": [
       "   age  gender ever_married      work_type\n",
       "0   67    Male          Yes        Private\n",
       "1   80    Male          Yes        Private\n",
       "2   49  Female          Yes        Private\n",
       "3   79  Female          Yes  Self-employed\n",
       "4   81    Male          Yes        Private"
      ]
     },
     "execution_count": 16,
     "metadata": {},
     "output_type": "execute_result"
    }
   ],
   "source": [
    "# #work_type fixing (2) //Creating df1 dataframe based on the column age, gender, ever_married and work_type\n",
    "df1 = pd.concat([data[['age']], data[['gender']], data[['ever_married']], data[['work_type']]], axis=1)\n",
    "df1 = df1[df1['work_type'].notnull()]\n",
    "\n",
    "df1.head()"
   ]
  },
  {
   "cell_type": "code",
   "execution_count": 17,
   "id": "8281a1e2",
   "metadata": {},
   "outputs": [
    {
     "name": "stdout",
     "output_type": "stream",
     "text": [
      "Accuracy: 0.679718875502008\n",
      "Predicted ever_married status: Private\n"
     ]
    },
    {
     "data": {
      "text/html": [
       "<div>\n",
       "<style scoped>\n",
       "    .dataframe tbody tr th:only-of-type {\n",
       "        vertical-align: middle;\n",
       "    }\n",
       "\n",
       "    .dataframe tbody tr th {\n",
       "        vertical-align: top;\n",
       "    }\n",
       "\n",
       "    .dataframe thead th {\n",
       "        text-align: right;\n",
       "    }\n",
       "</style>\n",
       "<table border=\"1\" class=\"dataframe\">\n",
       "  <thead>\n",
       "    <tr style=\"text-align: right;\">\n",
       "      <th></th>\n",
       "      <th>gender</th>\n",
       "      <th>age</th>\n",
       "      <th>ever_married</th>\n",
       "    </tr>\n",
       "  </thead>\n",
       "  <tbody>\n",
       "    <tr>\n",
       "      <th>4979</th>\n",
       "      <td>Male</td>\n",
       "      <td>40</td>\n",
       "      <td>Yes</td>\n",
       "    </tr>\n",
       "  </tbody>\n",
       "</table>\n",
       "</div>"
      ],
      "text/plain": [
       "     gender  age ever_married\n",
       "4979   Male   40          Yes"
      ]
     },
     "execution_count": 17,
     "metadata": {},
     "output_type": "execute_result"
    }
   ],
   "source": [
    "#using the decision tree for work-type prediction // hardcoded \n",
    "from sklearn.tree import DecisionTreeClassifier\n",
    "from sklearn.model_selection import train_test_split\n",
    "from sklearn.metrics import accuracy_score\n",
    "\n",
    "X = df1[['age', 'gender','ever_married']]\n",
    "\n",
    "X = pd.get_dummies(X, columns=['gender','ever_married'], drop_first=True)\n",
    "\n",
    "y = df1['work_type']\n",
    "\n",
    "X_train, X_test, y_train, y_test = train_test_split(X, y, test_size=0.2, random_state=42)\n",
    "\n",
    "classifier = DecisionTreeClassifier(random_state=42)\n",
    "classifier.fit(X_train, y_train)\n",
    "\n",
    "y_pred = classifier.predict(X_test)\n",
    "\n",
    "accuracy = accuracy_score(y_test, y_pred)\n",
    "print(\"Accuracy:\", accuracy)\n",
    "\n",
    "data_to_predict = pd.DataFrame({'age': [58], 'gender_Male': [False], 'ever_married_Yes': [True]})\n",
    "\n",
    "predicted_ever_married = classifier.predict(data_to_predict)\n",
    "\n",
    "print(\"Predicted ever_married status:\", predicted_ever_married[0])\n",
    "#replace\n",
    "data.loc[(data['age'] == 58) & (data['gender'] == 'Female') & (data['ever_married'] == 'Yes'), 'work_type'] = predicted_ever_married[0]\n",
    "\n",
    "\n",
    "#check\n",
    "null_row = data[data['work_type'].isnull()]\n",
    "\n",
    "gender_age_ever_married_null = null_row[['gender', 'age','ever_married']]\n",
    "\n",
    "gender_age_ever_married_null.head()\n",
    "\n"
   ]
  },
  {
   "cell_type": "code",
   "execution_count": 18,
   "id": "f1b09621",
   "metadata": {},
   "outputs": [
    {
     "name": "stdout",
     "output_type": "stream",
     "text": [
      "Accuracy: 0.679718875502008\n",
      "Predicted ever_married status: Private\n"
     ]
    },
    {
     "data": {
      "text/html": [
       "<div>\n",
       "<style scoped>\n",
       "    .dataframe tbody tr th:only-of-type {\n",
       "        vertical-align: middle;\n",
       "    }\n",
       "\n",
       "    .dataframe tbody tr th {\n",
       "        vertical-align: top;\n",
       "    }\n",
       "\n",
       "    .dataframe thead th {\n",
       "        text-align: right;\n",
       "    }\n",
       "</style>\n",
       "<table border=\"1\" class=\"dataframe\">\n",
       "  <thead>\n",
       "    <tr style=\"text-align: right;\">\n",
       "      <th></th>\n",
       "      <th>gender</th>\n",
       "      <th>age</th>\n",
       "      <th>ever_married</th>\n",
       "    </tr>\n",
       "  </thead>\n",
       "  <tbody>\n",
       "  </tbody>\n",
       "</table>\n",
       "</div>"
      ],
      "text/plain": [
       "Empty DataFrame\n",
       "Columns: [gender, age, ever_married]\n",
       "Index: []"
      ]
     },
     "execution_count": 18,
     "metadata": {},
     "output_type": "execute_result"
    }
   ],
   "source": [
    "#using the decision tree for work-type prediction // hardcoded \n",
    "from sklearn.tree import DecisionTreeClassifier\n",
    "from sklearn.model_selection import train_test_split\n",
    "from sklearn.metrics import accuracy_score\n",
    "\n",
    "X = df1[['age', 'gender','ever_married']]\n",
    "\n",
    "X = pd.get_dummies(X, columns=['gender','ever_married'], drop_first=True)\n",
    "\n",
    "y = df1['work_type']\n",
    "\n",
    "X_train, X_test, y_train, y_test = train_test_split(X, y, test_size=0.2, random_state=42)\n",
    "\n",
    "classifier = DecisionTreeClassifier(random_state=42)\n",
    "classifier.fit(X_train, y_train)\n",
    "\n",
    "y_pred = classifier.predict(X_test)\n",
    "\n",
    "accuracy = accuracy_score(y_test, y_pred)\n",
    "print(\"Accuracy:\", accuracy)\n",
    "\n",
    "data_to_predict = pd.DataFrame({'age': [40], 'gender_Male': [True], 'ever_married_Yes': [True]})\n",
    "\n",
    "predicted_ever_married = classifier.predict(data_to_predict)\n",
    "\n",
    "print(\"Predicted ever_married status:\", predicted_ever_married[0])\n",
    "#replace\n",
    "data.loc[(data['age'] == 40) & (data['gender'] == 'Male') & (data['ever_married'] == 'Yes'), 'work_type'] = predicted_ever_married[0]\n",
    "\n",
    "\n",
    "#check\n",
    "null_row = data[data['work_type'].isnull()]\n",
    "\n",
    "gender_age_ever_married_null = null_row[['gender', 'age','ever_married']]\n",
    "\n",
    "gender_age_ever_married_null.head()"
   ]
  },
  {
   "cell_type": "code",
   "execution_count": 19,
   "id": "bd24f445",
   "metadata": {},
   "outputs": [
    {
     "name": "stdout",
     "output_type": "stream",
     "text": [
      "Unique values with counts:\n",
      " Residence_type\n",
      "Urban    2531\n",
      "Rural    2449\n",
      "Name: count, dtype: int64 \n",
      "\n",
      "Number of null values in 'Residence_type' column before cleaning: 1 \n",
      "\n",
      "Number of null values in 'Residence_type' column after cleaning: 0 \n",
      "\n"
     ]
    }
   ],
   "source": [
    "#Residence_type column cleaning\n",
    "unique_values_counts = data['Residence_type'].value_counts()\n",
    "print(\"Unique values with counts:\\n\", unique_values_counts,'\\n')\n",
    "\n",
    "print(\"Number of null values in 'Residence_type' column before cleaning:\", data['Residence_type'].isnull().sum(),'\\n')\n",
    "data = data.dropna(subset=['Residence_type'])\n",
    "print(\"Number of null values in 'Residence_type' column after cleaning:\", data['Residence_type'].isnull().sum(),'\\n')\n"
   ]
  },
  {
   "cell_type": "code",
   "execution_count": 20,
   "id": "f6dd5342",
   "metadata": {},
   "outputs": [
    {
     "name": "stdout",
     "output_type": "stream",
     "text": [
      "Number of null values in 'avg_glucose_level' column before cleaning: 1 \n",
      "\n",
      "Number of null values in 'avg_glucose_level' column after cleaning: 0 \n",
      "\n"
     ]
    }
   ],
   "source": [
    "#Replacing avg_glucose_level with mean\n",
    "print(\"Number of null values in 'avg_glucose_level' column before cleaning:\", data['avg_glucose_level'].isnull().sum(),'\\n')\n",
    "\n",
    "mean = data.loc[data['avg_glucose_level'].notnull(), 'avg_glucose_level'].mean()\n",
    "\n",
    "#replace\n",
    "data['avg_glucose_level'].fillna(mean, inplace=True)\n",
    "\n",
    "print(\"Number of null values in 'avg_glucose_level' column after cleaning:\", data['avg_glucose_level'].isnull().sum(),'\\n')\n"
   ]
  },
  {
   "cell_type": "code",
   "execution_count": 21,
   "id": "9d7c2cc5",
   "metadata": {},
   "outputs": [
    {
     "name": "stdout",
     "output_type": "stream",
     "text": [
      "Number of null values in 'bmi' column before cleaning: 2 \n",
      "\n",
      "Number of null values in 'bmi' column after cleaning: 0 \n",
      "\n"
     ]
    }
   ],
   "source": [
    "#Replacing bmi with mean\n",
    "print(\"Number of null values in 'bmi' column before cleaning:\", data['bmi'].isnull().sum(),'\\n')\n",
    "\n",
    "mean = data.loc[data['bmi'].notnull(), 'bmi'].mean()\n",
    "\n",
    "#replace\n",
    "data['bmi'].fillna(mean, inplace=True)\n",
    "\n",
    "print(\"Number of null values in 'bmi' column after cleaning:\", data['bmi'].isnull().sum(),'\\n')\n"
   ]
  },
  {
   "cell_type": "code",
   "execution_count": 22,
   "id": "efe9cca1",
   "metadata": {},
   "outputs": [
    {
     "name": "stdout",
     "output_type": "stream",
     "text": [
      "Unique values with counts:\n",
      " smoking_status\n",
      "never smoked       1838\n",
      "Unknown            1500\n",
      "formerly smoked     867\n",
      "smokes              774\n",
      "Name: count, dtype: int64 \n",
      "\n",
      "Number of null values in 'smoking_status' column before cleaning: 1 \n",
      "\n",
      "Number of null values in 'smoking_status' column after cleaning: 0 \n",
      "\n"
     ]
    }
   ],
   "source": [
    "#smoking_status cleaning \n",
    "unique_values_counts = data['smoking_status'].value_counts()\n",
    "print(\"Unique values with counts:\\n\", unique_values_counts,'\\n')\n",
    "\n",
    "print(\"Number of null values in 'smoking_status' column before cleaning:\", data['smoking_status'].isnull().sum(),'\\n')\n",
    "data = data.dropna(subset=['smoking_status'])\n",
    "print(\"Number of null values in 'smoking_status' column after cleaning:\", data['smoking_status'].isnull().sum(),'\\n')"
   ]
  },
  {
   "cell_type": "code",
   "execution_count": 23,
   "id": "60fc38fc",
   "metadata": {},
   "outputs": [
    {
     "name": "stdout",
     "output_type": "stream",
     "text": [
      "Unique values with counts:\n",
      " stroke\n",
      "0    4729\n",
      "1     250\n",
      "Name: count, dtype: int64 \n",
      "\n"
     ]
    }
   ],
   "source": [
    "#detecting anomaly in stroke column and fix\n",
    "unique_values_counts = data['stroke'].value_counts()\n",
    "print(\"Unique values with counts:\\n\", unique_values_counts,'\\n')"
   ]
  },
  {
   "cell_type": "code",
   "execution_count": 24,
   "id": "034affee",
   "metadata": {},
   "outputs": [
    {
     "name": "stdout",
     "output_type": "stream",
     "text": [
      "Total Duplicate Row before dropping:  3\n",
      "Total Duplicate Row after dropping:  0\n"
     ]
    }
   ],
   "source": [
    "#remove duplicate data\n",
    "duplicate_data_count = data.duplicated().sum()\n",
    "print(\"Total Duplicate Row before dropping: \",duplicate_data_count)\n",
    "data=data.drop_duplicates()\n",
    "\n",
    "duplicate_data_count = data.duplicated().sum()\n",
    "print(\"Total Duplicate Row after dropping: \",duplicate_data_count)\n"
   ]
  },
  {
   "cell_type": "code",
   "execution_count": 25,
   "id": "86511355",
   "metadata": {},
   "outputs": [
    {
     "name": "stdout",
     "output_type": "stream",
     "text": [
      "Empty DataFrame\n",
      "Columns: [gender, age, hypertension, heart_disease, ever_married, work_type, Residence_type, avg_glucose_level, bmi, smoking_status, stroke]\n",
      "Index: []\n"
     ]
    },
    {
     "data": {
      "text/plain": [
       "gender               0\n",
       "age                  0\n",
       "hypertension         0\n",
       "heart_disease        0\n",
       "ever_married         0\n",
       "work_type            0\n",
       "Residence_type       0\n",
       "avg_glucose_level    0\n",
       "bmi                  0\n",
       "smoking_status       0\n",
       "stroke               0\n",
       "dtype: int64"
      ]
     },
     "execution_count": 25,
     "metadata": {},
     "output_type": "execute_result"
    }
   ],
   "source": [
    "#Check after cleaning\n",
    "nullRows = data[data.isnull().any(axis=1)]\n",
    "print(nullRows)\n",
    "data.isnull().sum()"
   ]
  },
  {
   "cell_type": "code",
   "execution_count": 26,
   "id": "400df831",
   "metadata": {},
   "outputs": [
    {
     "data": {
      "image/png": "[encoded data removed]",
      "text/plain": [
       "<Figure size 800x600 with 1 Axes>"
      ]
     },
     "metadata": {},
     "output_type": "display_data"
    },
    {
     "data": {
      "image/png": "[encoded data removed]",
      "text/plain": [
       "<Figure size 800x600 with 1 Axes>"
      ]
     },
     "metadata": {},
     "output_type": "display_data"
    },
    {
     "data": {
      "image/png": "[encoded data removed]",
      "text/plain": [
       "<Figure size 800x600 with 1 Axes>"
      ]
     },
     "metadata": {},
     "output_type": "display_data"
    },
    {
     "name": "stdout",
     "output_type": "stream",
     "text": [
      "Outliers for 'age': []\n",
      "Outliers for 'avg_glucose_level': [252.72, 243.58, 259.63, 249.31, 263.32, 271.74, 242.52, 250.89, 247.51, 243.53, 242.3, 243.5, 251.6, 247.69, 250.2, 254.6, 254.63, 246.34, 251.46, 267.76, 246.53, 244.28, 251.99, 253.16, 242.84, 249.29, 242.94, 247.48, 266.59, 243.59, 250.8, 255.17, 267.61, 248.37, 263.56, 247.97, 248.24, 254.95, 247.87, 261.67, 256.74, 244.3, 242.62, 243.52, 267.6, 253.86, 243.73, 260.85, 253.93]\n",
      "Outliers for 'bmi': [48.9, 48.9, 48.9]\n"
     ]
    },
    {
     "data": {
      "text/plain": [
       "(4976, 11)"
      ]
     },
     "execution_count": 26,
     "metadata": {},
     "output_type": "execute_result"
    }
   ],
   "source": [
    "#outliner of bmi, avg_glucose_level and age\n",
    "import pandas as pd\n",
    "import numpy as np\n",
    "import seaborn as sns\n",
    "import matplotlib.pyplot as plt\n",
    "\n",
    "outliers_age = []\n",
    "outliers_glucose_level = []\n",
    "outliers_bmi = []\n",
    "\n",
    "numerical_variables = ['age', 'avg_glucose_level', 'bmi']\n",
    "\n",
    "\n",
    "def detect_outliers_zscore(values):\n",
    "    z_scores = (values - values.mean()) / values.std()\n",
    "    return np.abs(z_scores) > 3\n",
    "\n",
    "outliers = data[numerical_variables].apply(detect_outliers_zscore)\n",
    "\n",
    "for variable in numerical_variables:\n",
    "    plt.figure(figsize=(8, 6))\n",
    "    sns.histplot(data[variable], bins=20, kde=True, color='skyblue', stat='density')\n",
    "    plt.title(f'{variable} Distribution', fontsize=16)\n",
    "    plt.xlabel(variable, fontsize=14)\n",
    "    plt.ylabel('Density', fontsize=14)\n",
    "\n",
    "    outliers_variable = data[variable][outliers[variable]]\n",
    "    if not outliers_variable.empty:\n",
    "        plt.plot(outliers_variable, np.zeros_like(outliers_variable), 'ro', markersize=8)\n",
    "        if variable == 'age':\n",
    "            outliers_age.extend(outliers_variable.tolist())\n",
    "        elif variable == 'avg_glucose_level':\n",
    "            outliers_glucose_level.extend(outliers_variable.tolist())\n",
    "        elif variable == 'bmi':\n",
    "            outliers_bmi.extend(outliers_variable.tolist())\n",
    "\n",
    "\n",
    "        for x, y in zip(outliers_variable, np.zeros_like(outliers_variable)):\n",
    "            plt.text(x, y, f'{x:.2f}', ha='center', va='bottom', fontsize=10, color='black')\n",
    "\n",
    "    plt.show()\n",
    "\n",
    "\n",
    "print(\"Outliers for 'age':\", outliers_age)\n",
    "print(\"Outliers for 'avg_glucose_level':\", outliers_glucose_level)\n",
    "print(\"Outliers for 'bmi':\", outliers_bmi)\n",
    "data.shape"
   ]
  },
  {
   "cell_type": "code",
   "execution_count": 27,
   "id": "911cd1ba",
   "metadata": {},
   "outputs": [
    {
     "data": {
      "text/plain": [
       "(4927, 11)"
      ]
     },
     "execution_count": 27,
     "metadata": {},
     "output_type": "execute_result"
    }
   ],
   "source": [
    "#outliner avg_glucose_level Remove\n",
    "for outlier_value in outliers_glucose_level:\n",
    "    for index, value in data['avg_glucose_level'].items():\n",
    "        if value == outlier_value:\n",
    "            data.drop(index, inplace=True)\n",
    "\n",
    "data.shape\n"
   ]
  },
  {
   "cell_type": "code",
   "execution_count": 28,
   "id": "f71fd745",
   "metadata": {},
   "outputs": [
    {
     "data": {
      "text/plain": [
       "(4924, 11)"
      ]
     },
     "execution_count": 28,
     "metadata": {},
     "output_type": "execute_result"
    }
   ],
   "source": [
    "#outliner bmi Remove\n",
    "for outlier_value in outliers_bmi:\n",
    "    for index, value in data['bmi'].items():\n",
    "        if value == outlier_value:\n",
    "            data.drop(index, inplace=True)\n",
    "\n",
    "data.shape"
   ]
  },
  {
   "cell_type": "markdown",
   "id": "bcc4b96b",
   "metadata": {},
   "source": [
    "**Data Encoding**\n",
    "---\n",
    "---"
   ]
  },
  {
   "cell_type": "code",
   "execution_count": 29,
   "id": "48c8efae",
   "metadata": {},
   "outputs": [
    {
     "data": {
      "text/html": [
       "<div>\n",
       "<style scoped>\n",
       "    .dataframe tbody tr th:only-of-type {\n",
       "        vertical-align: middle;\n",
       "    }\n",
       "\n",
       "    .dataframe tbody tr th {\n",
       "        vertical-align: top;\n",
       "    }\n",
       "\n",
       "    .dataframe thead th {\n",
       "        text-align: right;\n",
       "    }\n",
       "</style>\n",
       "<table border=\"1\" class=\"dataframe\">\n",
       "  <thead>\n",
       "    <tr style=\"text-align: right;\">\n",
       "      <th></th>\n",
       "      <th>gender</th>\n",
       "      <th>age</th>\n",
       "      <th>hypertension</th>\n",
       "      <th>heart_disease</th>\n",
       "      <th>ever_married</th>\n",
       "      <th>work_type</th>\n",
       "      <th>Residence_type</th>\n",
       "      <th>avg_glucose_level</th>\n",
       "      <th>bmi</th>\n",
       "      <th>smoking_status</th>\n",
       "      <th>stroke</th>\n",
       "      <th>age_group</th>\n",
       "    </tr>\n",
       "  </thead>\n",
       "  <tbody>\n",
       "    <tr>\n",
       "      <th>0</th>\n",
       "      <td>Male</td>\n",
       "      <td>67</td>\n",
       "      <td>0</td>\n",
       "      <td>1</td>\n",
       "      <td>Yes</td>\n",
       "      <td>Private</td>\n",
       "      <td>Urban</td>\n",
       "      <td>228.69</td>\n",
       "      <td>36.6</td>\n",
       "      <td>formerly smoked</td>\n",
       "      <td>1</td>\n",
       "      <td>Seniors</td>\n",
       "    </tr>\n",
       "    <tr>\n",
       "      <th>1</th>\n",
       "      <td>Male</td>\n",
       "      <td>80</td>\n",
       "      <td>0</td>\n",
       "      <td>1</td>\n",
       "      <td>Yes</td>\n",
       "      <td>Private</td>\n",
       "      <td>Rural</td>\n",
       "      <td>105.92</td>\n",
       "      <td>32.5</td>\n",
       "      <td>never smoked</td>\n",
       "      <td>1</td>\n",
       "      <td>Seniors</td>\n",
       "    </tr>\n",
       "    <tr>\n",
       "      <th>2</th>\n",
       "      <td>Female</td>\n",
       "      <td>49</td>\n",
       "      <td>0</td>\n",
       "      <td>0</td>\n",
       "      <td>Yes</td>\n",
       "      <td>Private</td>\n",
       "      <td>Urban</td>\n",
       "      <td>171.23</td>\n",
       "      <td>34.4</td>\n",
       "      <td>smokes</td>\n",
       "      <td>1</td>\n",
       "      <td>Adults</td>\n",
       "    </tr>\n",
       "    <tr>\n",
       "      <th>3</th>\n",
       "      <td>Female</td>\n",
       "      <td>79</td>\n",
       "      <td>1</td>\n",
       "      <td>0</td>\n",
       "      <td>Yes</td>\n",
       "      <td>Self-employed</td>\n",
       "      <td>Rural</td>\n",
       "      <td>174.12</td>\n",
       "      <td>24.0</td>\n",
       "      <td>never smoked</td>\n",
       "      <td>1</td>\n",
       "      <td>Seniors</td>\n",
       "    </tr>\n",
       "    <tr>\n",
       "      <th>4</th>\n",
       "      <td>Male</td>\n",
       "      <td>81</td>\n",
       "      <td>0</td>\n",
       "      <td>0</td>\n",
       "      <td>Yes</td>\n",
       "      <td>Private</td>\n",
       "      <td>Urban</td>\n",
       "      <td>186.21</td>\n",
       "      <td>29.0</td>\n",
       "      <td>formerly smoked</td>\n",
       "      <td>1</td>\n",
       "      <td>Seniors</td>\n",
       "    </tr>\n",
       "  </tbody>\n",
       "</table>\n",
       "</div>"
      ],
      "text/plain": [
       "   gender  age  hypertension  heart_disease ever_married      work_type  \\\n",
       "0    Male   67             0              1          Yes        Private   \n",
       "1    Male   80             0              1          Yes        Private   \n",
       "2  Female   49             0              0          Yes        Private   \n",
       "3  Female   79             1              0          Yes  Self-employed   \n",
       "4    Male   81             0              0          Yes        Private   \n",
       "\n",
       "  Residence_type  avg_glucose_level   bmi   smoking_status  stroke age_group  \n",
       "0          Urban             228.69  36.6  formerly smoked       1   Seniors  \n",
       "1          Rural             105.92  32.5     never smoked       1   Seniors  \n",
       "2          Urban             171.23  34.4           smokes       1    Adults  \n",
       "3          Rural             174.12  24.0     never smoked       1   Seniors  \n",
       "4          Urban             186.21  29.0  formerly smoked       1   Seniors  "
      ]
     },
     "execution_count": 29,
     "metadata": {},
     "output_type": "execute_result"
    }
   ],
   "source": [
    "#categorizing age\n",
    "\n",
    "def categorize_age(age):\n",
    "    if age < 18:\n",
    "        return 'Children'\n",
    "    elif 18 <= age < 30:\n",
    "        return 'Young Adults'\n",
    "    elif 30 <= age < 65:\n",
    "        return 'Adults'\n",
    "    else:\n",
    "        return 'Seniors'\n",
    "\n",
    "data['age_group'] = data['age'].apply(categorize_age)\n",
    "\n",
    "data.head()"
   ]
  },
  {
   "cell_type": "code",
   "execution_count": 30,
   "id": "7f7b530e",
   "metadata": {},
   "outputs": [
    {
     "data": {
      "text/html": [
       "<div>\n",
       "<style scoped>\n",
       "    .dataframe tbody tr th:only-of-type {\n",
       "        vertical-align: middle;\n",
       "    }\n",
       "\n",
       "    .dataframe tbody tr th {\n",
       "        vertical-align: top;\n",
       "    }\n",
       "\n",
       "    .dataframe thead th {\n",
       "        text-align: right;\n",
       "    }\n",
       "</style>\n",
       "<table border=\"1\" class=\"dataframe\">\n",
       "  <thead>\n",
       "    <tr style=\"text-align: right;\">\n",
       "      <th></th>\n",
       "      <th>gender</th>\n",
       "      <th>age</th>\n",
       "      <th>hypertension</th>\n",
       "      <th>heart_disease</th>\n",
       "      <th>ever_married</th>\n",
       "      <th>work_type</th>\n",
       "      <th>Residence_type</th>\n",
       "      <th>avg_glucose_level</th>\n",
       "      <th>bmi</th>\n",
       "      <th>smoking_status</th>\n",
       "      <th>stroke</th>\n",
       "      <th>age_group</th>\n",
       "      <th>glucose_level_range</th>\n",
       "    </tr>\n",
       "  </thead>\n",
       "  <tbody>\n",
       "    <tr>\n",
       "      <th>0</th>\n",
       "      <td>Male</td>\n",
       "      <td>67</td>\n",
       "      <td>0</td>\n",
       "      <td>1</td>\n",
       "      <td>Yes</td>\n",
       "      <td>Private</td>\n",
       "      <td>Urban</td>\n",
       "      <td>228.69</td>\n",
       "      <td>36.6</td>\n",
       "      <td>formerly smoked</td>\n",
       "      <td>1</td>\n",
       "      <td>Seniors</td>\n",
       "      <td>Very High</td>\n",
       "    </tr>\n",
       "    <tr>\n",
       "      <th>1</th>\n",
       "      <td>Male</td>\n",
       "      <td>80</td>\n",
       "      <td>0</td>\n",
       "      <td>1</td>\n",
       "      <td>Yes</td>\n",
       "      <td>Private</td>\n",
       "      <td>Rural</td>\n",
       "      <td>105.92</td>\n",
       "      <td>32.5</td>\n",
       "      <td>never smoked</td>\n",
       "      <td>1</td>\n",
       "      <td>Seniors</td>\n",
       "      <td>High</td>\n",
       "    </tr>\n",
       "    <tr>\n",
       "      <th>2</th>\n",
       "      <td>Female</td>\n",
       "      <td>49</td>\n",
       "      <td>0</td>\n",
       "      <td>0</td>\n",
       "      <td>Yes</td>\n",
       "      <td>Private</td>\n",
       "      <td>Urban</td>\n",
       "      <td>171.23</td>\n",
       "      <td>34.4</td>\n",
       "      <td>smokes</td>\n",
       "      <td>1</td>\n",
       "      <td>Adults</td>\n",
       "      <td>Very High</td>\n",
       "    </tr>\n",
       "    <tr>\n",
       "      <th>3</th>\n",
       "      <td>Female</td>\n",
       "      <td>79</td>\n",
       "      <td>1</td>\n",
       "      <td>0</td>\n",
       "      <td>Yes</td>\n",
       "      <td>Self-employed</td>\n",
       "      <td>Rural</td>\n",
       "      <td>174.12</td>\n",
       "      <td>24.0</td>\n",
       "      <td>never smoked</td>\n",
       "      <td>1</td>\n",
       "      <td>Seniors</td>\n",
       "      <td>Very High</td>\n",
       "    </tr>\n",
       "    <tr>\n",
       "      <th>4</th>\n",
       "      <td>Male</td>\n",
       "      <td>81</td>\n",
       "      <td>0</td>\n",
       "      <td>0</td>\n",
       "      <td>Yes</td>\n",
       "      <td>Private</td>\n",
       "      <td>Urban</td>\n",
       "      <td>186.21</td>\n",
       "      <td>29.0</td>\n",
       "      <td>formerly smoked</td>\n",
       "      <td>1</td>\n",
       "      <td>Seniors</td>\n",
       "      <td>Very High</td>\n",
       "    </tr>\n",
       "  </tbody>\n",
       "</table>\n",
       "</div>"
      ],
      "text/plain": [
       "   gender  age  hypertension  heart_disease ever_married      work_type  \\\n",
       "0    Male   67             0              1          Yes        Private   \n",
       "1    Male   80             0              1          Yes        Private   \n",
       "2  Female   49             0              0          Yes        Private   \n",
       "3  Female   79             1              0          Yes  Self-employed   \n",
       "4    Male   81             0              0          Yes        Private   \n",
       "\n",
       "  Residence_type  avg_glucose_level   bmi   smoking_status  stroke age_group  \\\n",
       "0          Urban             228.69  36.6  formerly smoked       1   Seniors   \n",
       "1          Rural             105.92  32.5     never smoked       1   Seniors   \n",
       "2          Urban             171.23  34.4           smokes       1    Adults   \n",
       "3          Rural             174.12  24.0     never smoked       1   Seniors   \n",
       "4          Urban             186.21  29.0  formerly smoked       1   Seniors   \n",
       "\n",
       "  glucose_level_range  \n",
       "0           Very High  \n",
       "1                High  \n",
       "2           Very High  \n",
       "3           Very High  \n",
       "4           Very High  "
      ]
     },
     "execution_count": 30,
     "metadata": {},
     "output_type": "execute_result"
    }
   ],
   "source": [
    "#categorizing avg_glucose_level\n",
    "glucose_bins = [0, 70, 100, 125, float('inf')]\n",
    "glucose_labels = ['Low', 'Normal', 'High', 'Very High']\n",
    "data['glucose_level_range'] = pd.cut(data['avg_glucose_level'], bins=glucose_bins, labels=glucose_labels)\n",
    "\n",
    "data.head()"
   ]
  },
  {
   "cell_type": "code",
   "execution_count": 31,
   "id": "5e9f005f",
   "metadata": {},
   "outputs": [
    {
     "data": {
      "text/html": [
       "<div>\n",
       "<style scoped>\n",
       "    .dataframe tbody tr th:only-of-type {\n",
       "        vertical-align: middle;\n",
       "    }\n",
       "\n",
       "    .dataframe tbody tr th {\n",
       "        vertical-align: top;\n",
       "    }\n",
       "\n",
       "    .dataframe thead th {\n",
       "        text-align: right;\n",
       "    }\n",
       "</style>\n",
       "<table border=\"1\" class=\"dataframe\">\n",
       "  <thead>\n",
       "    <tr style=\"text-align: right;\">\n",
       "      <th></th>\n",
       "      <th>gender</th>\n",
       "      <th>age</th>\n",
       "      <th>hypertension</th>\n",
       "      <th>heart_disease</th>\n",
       "      <th>ever_married</th>\n",
       "      <th>work_type</th>\n",
       "      <th>Residence_type</th>\n",
       "      <th>avg_glucose_level</th>\n",
       "      <th>bmi</th>\n",
       "      <th>smoking_status</th>\n",
       "      <th>stroke</th>\n",
       "      <th>age_group</th>\n",
       "      <th>glucose_level_range</th>\n",
       "      <th>bmi_category</th>\n",
       "    </tr>\n",
       "  </thead>\n",
       "  <tbody>\n",
       "    <tr>\n",
       "      <th>0</th>\n",
       "      <td>Male</td>\n",
       "      <td>67</td>\n",
       "      <td>0</td>\n",
       "      <td>1</td>\n",
       "      <td>Yes</td>\n",
       "      <td>Private</td>\n",
       "      <td>Urban</td>\n",
       "      <td>228.69</td>\n",
       "      <td>36.6</td>\n",
       "      <td>formerly smoked</td>\n",
       "      <td>1</td>\n",
       "      <td>Seniors</td>\n",
       "      <td>Very High</td>\n",
       "      <td>Obese</td>\n",
       "    </tr>\n",
       "    <tr>\n",
       "      <th>1</th>\n",
       "      <td>Male</td>\n",
       "      <td>80</td>\n",
       "      <td>0</td>\n",
       "      <td>1</td>\n",
       "      <td>Yes</td>\n",
       "      <td>Private</td>\n",
       "      <td>Rural</td>\n",
       "      <td>105.92</td>\n",
       "      <td>32.5</td>\n",
       "      <td>never smoked</td>\n",
       "      <td>1</td>\n",
       "      <td>Seniors</td>\n",
       "      <td>High</td>\n",
       "      <td>Obese</td>\n",
       "    </tr>\n",
       "    <tr>\n",
       "      <th>2</th>\n",
       "      <td>Female</td>\n",
       "      <td>49</td>\n",
       "      <td>0</td>\n",
       "      <td>0</td>\n",
       "      <td>Yes</td>\n",
       "      <td>Private</td>\n",
       "      <td>Urban</td>\n",
       "      <td>171.23</td>\n",
       "      <td>34.4</td>\n",
       "      <td>smokes</td>\n",
       "      <td>1</td>\n",
       "      <td>Adults</td>\n",
       "      <td>Very High</td>\n",
       "      <td>Obese</td>\n",
       "    </tr>\n",
       "    <tr>\n",
       "      <th>3</th>\n",
       "      <td>Female</td>\n",
       "      <td>79</td>\n",
       "      <td>1</td>\n",
       "      <td>0</td>\n",
       "      <td>Yes</td>\n",
       "      <td>Self-employed</td>\n",
       "      <td>Rural</td>\n",
       "      <td>174.12</td>\n",
       "      <td>24.0</td>\n",
       "      <td>never smoked</td>\n",
       "      <td>1</td>\n",
       "      <td>Seniors</td>\n",
       "      <td>Very High</td>\n",
       "      <td>Normal Weight</td>\n",
       "    </tr>\n",
       "    <tr>\n",
       "      <th>4</th>\n",
       "      <td>Male</td>\n",
       "      <td>81</td>\n",
       "      <td>0</td>\n",
       "      <td>0</td>\n",
       "      <td>Yes</td>\n",
       "      <td>Private</td>\n",
       "      <td>Urban</td>\n",
       "      <td>186.21</td>\n",
       "      <td>29.0</td>\n",
       "      <td>formerly smoked</td>\n",
       "      <td>1</td>\n",
       "      <td>Seniors</td>\n",
       "      <td>Very High</td>\n",
       "      <td>Overweight</td>\n",
       "    </tr>\n",
       "  </tbody>\n",
       "</table>\n",
       "</div>"
      ],
      "text/plain": [
       "   gender  age  hypertension  heart_disease ever_married      work_type  \\\n",
       "0    Male   67             0              1          Yes        Private   \n",
       "1    Male   80             0              1          Yes        Private   \n",
       "2  Female   49             0              0          Yes        Private   \n",
       "3  Female   79             1              0          Yes  Self-employed   \n",
       "4    Male   81             0              0          Yes        Private   \n",
       "\n",
       "  Residence_type  avg_glucose_level   bmi   smoking_status  stroke age_group  \\\n",
       "0          Urban             228.69  36.6  formerly smoked       1   Seniors   \n",
       "1          Rural             105.92  32.5     never smoked       1   Seniors   \n",
       "2          Urban             171.23  34.4           smokes       1    Adults   \n",
       "3          Rural             174.12  24.0     never smoked       1   Seniors   \n",
       "4          Urban             186.21  29.0  formerly smoked       1   Seniors   \n",
       "\n",
       "  glucose_level_range   bmi_category  \n",
       "0           Very High          Obese  \n",
       "1                High          Obese  \n",
       "2           Very High          Obese  \n",
       "3           Very High  Normal Weight  \n",
       "4           Very High     Overweight  "
      ]
     },
     "execution_count": 31,
     "metadata": {},
     "output_type": "execute_result"
    }
   ],
   "source": [
    "#categorizing bmi\n",
    "\n",
    "def categorize_bmi(bmi):\n",
    "    if bmi < 18.5:\n",
    "        return 'Underweight'\n",
    "    elif 18.5 <= bmi < 25:\n",
    "        return 'Normal Weight'\n",
    "    elif 25 <= bmi < 30:\n",
    "        return 'Overweight'\n",
    "    else:\n",
    "        return 'Obese'\n",
    "\n",
    "data['bmi_category'] = data['bmi'].apply(categorize_bmi)\n",
    "\n",
    "data.head()"
   ]
  },
  {
   "cell_type": "code",
   "execution_count": 32,
   "id": "70977be4",
   "metadata": {},
   "outputs": [
    {
     "data": {
      "text/html": [
       "<div>\n",
       "<style scoped>\n",
       "    .dataframe tbody tr th:only-of-type {\n",
       "        vertical-align: middle;\n",
       "    }\n",
       "\n",
       "    .dataframe tbody tr th {\n",
       "        vertical-align: top;\n",
       "    }\n",
       "\n",
       "    .dataframe thead th {\n",
       "        text-align: right;\n",
       "    }\n",
       "</style>\n",
       "<table border=\"1\" class=\"dataframe\">\n",
       "  <thead>\n",
       "    <tr style=\"text-align: right;\">\n",
       "      <th></th>\n",
       "      <th>gender</th>\n",
       "      <th>age</th>\n",
       "      <th>hypertension</th>\n",
       "      <th>heart_disease</th>\n",
       "      <th>ever_married</th>\n",
       "      <th>Residence_type</th>\n",
       "      <th>avg_glucose_level</th>\n",
       "      <th>bmi</th>\n",
       "      <th>stroke</th>\n",
       "      <th>age_group</th>\n",
       "      <th>...</th>\n",
       "      <th>work_type_Govt_job</th>\n",
       "      <th>work_type_Govtjob</th>\n",
       "      <th>work_type_Private</th>\n",
       "      <th>work_type_Self-employed</th>\n",
       "      <th>work_type_Selfemployed</th>\n",
       "      <th>work_type_children</th>\n",
       "      <th>smoking_status_Unknown</th>\n",
       "      <th>smoking_status_formerly smoked</th>\n",
       "      <th>smoking_status_never smoked</th>\n",
       "      <th>smoking_status_smokes</th>\n",
       "    </tr>\n",
       "  </thead>\n",
       "  <tbody>\n",
       "    <tr>\n",
       "      <th>0</th>\n",
       "      <td>1</td>\n",
       "      <td>67</td>\n",
       "      <td>0</td>\n",
       "      <td>1</td>\n",
       "      <td>1</td>\n",
       "      <td>1</td>\n",
       "      <td>228.69</td>\n",
       "      <td>36.6</td>\n",
       "      <td>1</td>\n",
       "      <td>2</td>\n",
       "      <td>...</td>\n",
       "      <td>False</td>\n",
       "      <td>False</td>\n",
       "      <td>True</td>\n",
       "      <td>False</td>\n",
       "      <td>False</td>\n",
       "      <td>False</td>\n",
       "      <td>False</td>\n",
       "      <td>True</td>\n",
       "      <td>False</td>\n",
       "      <td>False</td>\n",
       "    </tr>\n",
       "    <tr>\n",
       "      <th>1</th>\n",
       "      <td>1</td>\n",
       "      <td>80</td>\n",
       "      <td>0</td>\n",
       "      <td>1</td>\n",
       "      <td>1</td>\n",
       "      <td>0</td>\n",
       "      <td>105.92</td>\n",
       "      <td>32.5</td>\n",
       "      <td>1</td>\n",
       "      <td>2</td>\n",
       "      <td>...</td>\n",
       "      <td>False</td>\n",
       "      <td>False</td>\n",
       "      <td>True</td>\n",
       "      <td>False</td>\n",
       "      <td>False</td>\n",
       "      <td>False</td>\n",
       "      <td>False</td>\n",
       "      <td>False</td>\n",
       "      <td>True</td>\n",
       "      <td>False</td>\n",
       "    </tr>\n",
       "    <tr>\n",
       "      <th>2</th>\n",
       "      <td>0</td>\n",
       "      <td>49</td>\n",
       "      <td>0</td>\n",
       "      <td>0</td>\n",
       "      <td>1</td>\n",
       "      <td>1</td>\n",
       "      <td>171.23</td>\n",
       "      <td>34.4</td>\n",
       "      <td>1</td>\n",
       "      <td>0</td>\n",
       "      <td>...</td>\n",
       "      <td>False</td>\n",
       "      <td>False</td>\n",
       "      <td>True</td>\n",
       "      <td>False</td>\n",
       "      <td>False</td>\n",
       "      <td>False</td>\n",
       "      <td>False</td>\n",
       "      <td>False</td>\n",
       "      <td>False</td>\n",
       "      <td>True</td>\n",
       "    </tr>\n",
       "    <tr>\n",
       "      <th>3</th>\n",
       "      <td>0</td>\n",
       "      <td>79</td>\n",
       "      <td>1</td>\n",
       "      <td>0</td>\n",
       "      <td>1</td>\n",
       "      <td>0</td>\n",
       "      <td>174.12</td>\n",
       "      <td>24.0</td>\n",
       "      <td>1</td>\n",
       "      <td>2</td>\n",
       "      <td>...</td>\n",
       "      <td>False</td>\n",
       "      <td>False</td>\n",
       "      <td>False</td>\n",
       "      <td>True</td>\n",
       "      <td>False</td>\n",
       "      <td>False</td>\n",
       "      <td>False</td>\n",
       "      <td>False</td>\n",
       "      <td>True</td>\n",
       "      <td>False</td>\n",
       "    </tr>\n",
       "    <tr>\n",
       "      <th>4</th>\n",
       "      <td>1</td>\n",
       "      <td>81</td>\n",
       "      <td>0</td>\n",
       "      <td>0</td>\n",
       "      <td>1</td>\n",
       "      <td>1</td>\n",
       "      <td>186.21</td>\n",
       "      <td>29.0</td>\n",
       "      <td>1</td>\n",
       "      <td>2</td>\n",
       "      <td>...</td>\n",
       "      <td>False</td>\n",
       "      <td>False</td>\n",
       "      <td>True</td>\n",
       "      <td>False</td>\n",
       "      <td>False</td>\n",
       "      <td>False</td>\n",
       "      <td>False</td>\n",
       "      <td>True</td>\n",
       "      <td>False</td>\n",
       "      <td>False</td>\n",
       "    </tr>\n",
       "  </tbody>\n",
       "</table>\n",
       "<p>5 rows × 22 columns</p>\n",
       "</div>"
      ],
      "text/plain": [
       "   gender  age  hypertension  heart_disease  ever_married  Residence_type  \\\n",
       "0       1   67             0              1             1               1   \n",
       "1       1   80             0              1             1               0   \n",
       "2       0   49             0              0             1               1   \n",
       "3       0   79             1              0             1               0   \n",
       "4       1   81             0              0             1               1   \n",
       "\n",
       "   avg_glucose_level   bmi  stroke  age_group  ...  work_type_Govt_job  \\\n",
       "0             228.69  36.6       1          2  ...               False   \n",
       "1             105.92  32.5       1          2  ...               False   \n",
       "2             171.23  34.4       1          0  ...               False   \n",
       "3             174.12  24.0       1          2  ...               False   \n",
       "4             186.21  29.0       1          2  ...               False   \n",
       "\n",
       "   work_type_Govtjob  work_type_Private  work_type_Self-employed  \\\n",
       "0              False               True                    False   \n",
       "1              False               True                    False   \n",
       "2              False               True                    False   \n",
       "3              False              False                     True   \n",
       "4              False               True                    False   \n",
       "\n",
       "   work_type_Selfemployed  work_type_children  smoking_status_Unknown  \\\n",
       "0                   False               False                   False   \n",
       "1                   False               False                   False   \n",
       "2                   False               False                   False   \n",
       "3                   False               False                   False   \n",
       "4                   False               False                   False   \n",
       "\n",
       "   smoking_status_formerly smoked  smoking_status_never smoked  \\\n",
       "0                            True                        False   \n",
       "1                           False                         True   \n",
       "2                           False                        False   \n",
       "3                           False                         True   \n",
       "4                            True                        False   \n",
       "\n",
       "   smoking_status_smokes  \n",
       "0                  False  \n",
       "1                  False  \n",
       "2                   True  \n",
       "3                  False  \n",
       "4                  False  \n",
       "\n",
       "[5 rows x 22 columns]"
      ]
     },
     "execution_count": 32,
     "metadata": {},
     "output_type": "execute_result"
    }
   ],
   "source": [
    "#Encoding data\n",
    "from sklearn.preprocessing import LabelEncoder\n",
    "enc = LabelEncoder()\n",
    "\n",
    "one_hot_encoded_data = pd.get_dummies(data, columns = [ 'work_type', 'smoking_status'])\n",
    "encoded_data = one_hot_encoded_data\n",
    "\n",
    "encoded_data[\"gender\"] = enc.fit_transform(data['gender'])\n",
    "encoded_data[\"ever_married\"] = enc.fit_transform(data[\"ever_married\"])\n",
    "encoded_data[\"Residence_type\"] = enc.fit_transform(data[\"Residence_type\"])\n",
    "encoded_data[\"bmi_category\"] = enc.fit_transform(data[\"bmi_category\"])\n",
    "encoded_data[\"age_group\"] = enc.fit_transform(data[\"age_group\"])\n",
    "encoded_data[\"glucose_level_range\"] = enc.fit_transform(data[\"glucose_level_range\"])\n",
    "\n",
    "encoded_data.head()"
   ]
  },
  {
   "cell_type": "code",
   "execution_count": 33,
   "id": "a3cd8c42",
   "metadata": {},
   "outputs": [
    {
     "data": {
      "text/plain": [
       "<Axes: >"
      ]
     },
     "execution_count": 33,
     "metadata": {},
     "output_type": "execute_result"
    },
    {
     "data": {
      "image/png": "[encoded data removed]",
      "text/plain": [
       "<Figure size 640x480 with 2 Axes>"
      ]
     },
     "metadata": {},
     "output_type": "display_data"
    }
   ],
   "source": [
    "import seaborn as sns\n",
    "co = encoded_data.corr()\n",
    "sns.heatmap(co)"
   ]
  },
  {
   "cell_type": "code",
   "execution_count": 34,
   "id": "e4c25f80",
   "metadata": {},
   "outputs": [
    {
     "data": {
      "text/plain": [
       "<bound method NDFrame.head of       stroke\n",
       "0          1\n",
       "1          1\n",
       "2          1\n",
       "3          1\n",
       "4          1\n",
       "...      ...\n",
       "4976       0\n",
       "4977       0\n",
       "4978       0\n",
       "4979       0\n",
       "4980       0\n",
       "\n",
       "[4924 rows x 1 columns]>"
      ]
     },
     "execution_count": 34,
     "metadata": {},
     "output_type": "execute_result"
    }
   ],
   "source": [
    "Y = pd.DataFrame(encoded_data['stroke'])\n",
    "Y.head"
   ]
  },
  {
   "cell_type": "code",
   "execution_count": 35,
   "id": "d7571d55",
   "metadata": {},
   "outputs": [
    {
     "data": {
      "text/plain": [
       "<bound method NDFrame.head of       gender  age  hypertension  heart_disease  ever_married  Residence_type  \\\n",
       "0          1   67             0              1             1               1   \n",
       "1          1   80             0              1             1               0   \n",
       "2          0   49             0              0             1               1   \n",
       "3          0   79             1              0             1               0   \n",
       "4          1   81             0              0             1               1   \n",
       "...      ...  ...           ...            ...           ...             ...   \n",
       "4976       1   41             0              0             0               0   \n",
       "4977       1   40             0              0             1               1   \n",
       "4978       0   45             1              0             1               0   \n",
       "4979       1   40             0              0             1               0   \n",
       "4980       0   80             1              0             1               1   \n",
       "\n",
       "      avg_glucose_level   bmi  age_group  glucose_level_range  ...  \\\n",
       "0                228.69  36.6          2                    3  ...   \n",
       "1                105.92  32.5          2                    0  ...   \n",
       "2                171.23  34.4          0                    3  ...   \n",
       "3                174.12  24.0          2                    3  ...   \n",
       "4                186.21  29.0          2                    3  ...   \n",
       "...                 ...   ...        ...                  ...  ...   \n",
       "4976              70.15  29.8          0                    2  ...   \n",
       "4977             191.15  31.1          0                    3  ...   \n",
       "4978              95.02  31.8          0                    2  ...   \n",
       "4979              83.94  30.0          0                    2  ...   \n",
       "4980              83.75  29.1          2                    2  ...   \n",
       "\n",
       "      work_type_Govt_job  work_type_Govtjob  work_type_Private  \\\n",
       "0                  False              False               True   \n",
       "1                  False              False               True   \n",
       "2                  False              False               True   \n",
       "3                  False              False              False   \n",
       "4                  False              False               True   \n",
       "...                  ...                ...                ...   \n",
       "4976               False              False               True   \n",
       "4977               False              False               True   \n",
       "4978                True              False              False   \n",
       "4979               False              False               True   \n",
       "4980               False              False               True   \n",
       "\n",
       "      work_type_Self-employed  work_type_Selfemployed  work_type_children  \\\n",
       "0                       False                   False               False   \n",
       "1                       False                   False               False   \n",
       "2                       False                   False               False   \n",
       "3                        True                   False               False   \n",
       "4                       False                   False               False   \n",
       "...                       ...                     ...                 ...   \n",
       "4976                    False                   False               False   \n",
       "4977                    False                   False               False   \n",
       "4978                    False                   False               False   \n",
       "4979                    False                   False               False   \n",
       "4980                    False                   False               False   \n",
       "\n",
       "      smoking_status_Unknown  smoking_status_formerly smoked  \\\n",
       "0                      False                            True   \n",
       "1                      False                           False   \n",
       "2                      False                           False   \n",
       "3                      False                           False   \n",
       "4                      False                            True   \n",
       "...                      ...                             ...   \n",
       "4976                   False                            True   \n",
       "4977                   False                           False   \n",
       "4978                   False                           False   \n",
       "4979                   False                           False   \n",
       "4980                   False                           False   \n",
       "\n",
       "      smoking_status_never smoked  smoking_status_smokes  \n",
       "0                           False                  False  \n",
       "1                            True                  False  \n",
       "2                           False                   True  \n",
       "3                            True                  False  \n",
       "4                           False                  False  \n",
       "...                           ...                    ...  \n",
       "4976                        False                  False  \n",
       "4977                        False                   True  \n",
       "4978                        False                   True  \n",
       "4979                        False                   True  \n",
       "4980                         True                  False  \n",
       "\n",
       "[4924 rows x 21 columns]>"
      ]
     },
     "execution_count": 35,
     "metadata": {},
     "output_type": "execute_result"
    }
   ],
   "source": [
    "encoded_data.drop('stroke', axis = 1, inplace = True)\n",
    "\n",
    "X=encoded_data\n",
    "\n",
    "X.head"
   ]
  },
  {
   "cell_type": "code",
   "execution_count": 36,
   "id": "c3197a24",
   "metadata": {},
   "outputs": [
    {
     "name": "stdout",
     "output_type": "stream",
     "text": [
      "Selected Categorical Features:\n",
      "Index(['hypertension', 'heart_disease', 'ever_married', 'Residence_type',\n",
      "       'bmi_category', 'age_group', 'work_type_Self-employed',\n",
      "       'work_type_children', 'smoking_status_Unknown',\n",
      "       'smoking_status_formerly smoked'],\n",
      "      dtype='object')\n",
      "\n",
      "Selected Numerical Features:\n",
      "Index(['age', 'avg_glucose_level', 'bmi'], dtype='object')\n"
     ]
    }
   ],
   "source": [
    "from sklearn.feature_selection import SelectKBest, chi2, mutual_info_classif\n",
    "\n",
    "# Define the target variable y\n",
    "y = data['stroke']  # Replace 'stroke' with your actual target variable name\n",
    "\n",
    "# Features provided\n",
    "categorical_features = ['gender', 'hypertension', 'heart_disease', 'ever_married', 'Residence_type',\n",
    "                        'bmi_category', 'age_group', 'work_type_Govt_job', 'work_type_Private',\n",
    "                        'work_type_Self-employed', 'work_type_children', 'smoking_status_Unknown',\n",
    "                        'smoking_status_formerly smoked', 'smoking_status_never smoked',\n",
    "                        'smoking_status_smokes']\n",
    "\n",
    "numerical_features = ['age', 'avg_glucose_level', 'bmi']\n",
    "\n",
    "# Select top 10 categorical features using chi-square\n",
    "k_best_categorical = SelectKBest(score_func=chi2, k=10)\n",
    "X_cat_selected = k_best_categorical.fit_transform(X[categorical_features], y)\n",
    "\n",
    "# Select top 5 numerical features using mutual information\n",
    "k_best_numerical = SelectKBest(score_func=mutual_info_classif, k=3)\n",
    "X_num_selected = k_best_numerical.fit_transform(X[numerical_features], y)\n",
    "\n",
    "# Get selected feature names\n",
    "selected_categorical_feature_names = X[categorical_features].columns[k_best_categorical.get_support(indices=True)]\n",
    "selected_numerical_feature_names = X[numerical_features].columns[k_best_numerical.get_support(indices=True)]\n",
    "\n",
    "print(\"Selected Categorical Features:\")\n",
    "print(selected_categorical_feature_names)\n",
    "\n",
    "print(\"\\nSelected Numerical Features:\")\n",
    "print(selected_numerical_feature_names)"
   ]
  },
  {
   "cell_type": "code",
   "execution_count": 37,
   "id": "1e2026f1",
   "metadata": {},
   "outputs": [
    {
     "data": {
      "text/html": [
       "<div>\n",
       "<style scoped>\n",
       "    .dataframe tbody tr th:only-of-type {\n",
       "        vertical-align: middle;\n",
       "    }\n",
       "\n",
       "    .dataframe tbody tr th {\n",
       "        vertical-align: top;\n",
       "    }\n",
       "\n",
       "    .dataframe thead th {\n",
       "        text-align: right;\n",
       "    }\n",
       "</style>\n",
       "<table border=\"1\" class=\"dataframe\">\n",
       "  <thead>\n",
       "    <tr style=\"text-align: right;\">\n",
       "      <th></th>\n",
       "      <th>age</th>\n",
       "      <th>heart_disease</th>\n",
       "      <th>ever_married</th>\n",
       "      <th>Residence_type</th>\n",
       "      <th>avg_glucose_level</th>\n",
       "      <th>bmi</th>\n",
       "      <th>age_group</th>\n",
       "      <th>glucose_level_range</th>\n",
       "      <th>work_type_Govtjob</th>\n",
       "      <th>work_type_Self-employed</th>\n",
       "      <th>work_type_Selfemployed</th>\n",
       "      <th>work_type_children</th>\n",
       "      <th>smoking_status_Unknown</th>\n",
       "      <th>smoking_status_formerly smoked</th>\n",
       "    </tr>\n",
       "  </thead>\n",
       "  <tbody>\n",
       "    <tr>\n",
       "      <th>0</th>\n",
       "      <td>67</td>\n",
       "      <td>1</td>\n",
       "      <td>1</td>\n",
       "      <td>1</td>\n",
       "      <td>228.69</td>\n",
       "      <td>36.6</td>\n",
       "      <td>2</td>\n",
       "      <td>3</td>\n",
       "      <td>False</td>\n",
       "      <td>False</td>\n",
       "      <td>False</td>\n",
       "      <td>False</td>\n",
       "      <td>False</td>\n",
       "      <td>True</td>\n",
       "    </tr>\n",
       "    <tr>\n",
       "      <th>1</th>\n",
       "      <td>80</td>\n",
       "      <td>1</td>\n",
       "      <td>1</td>\n",
       "      <td>0</td>\n",
       "      <td>105.92</td>\n",
       "      <td>32.5</td>\n",
       "      <td>2</td>\n",
       "      <td>0</td>\n",
       "      <td>False</td>\n",
       "      <td>False</td>\n",
       "      <td>False</td>\n",
       "      <td>False</td>\n",
       "      <td>False</td>\n",
       "      <td>False</td>\n",
       "    </tr>\n",
       "    <tr>\n",
       "      <th>2</th>\n",
       "      <td>49</td>\n",
       "      <td>0</td>\n",
       "      <td>1</td>\n",
       "      <td>1</td>\n",
       "      <td>171.23</td>\n",
       "      <td>34.4</td>\n",
       "      <td>0</td>\n",
       "      <td>3</td>\n",
       "      <td>False</td>\n",
       "      <td>False</td>\n",
       "      <td>False</td>\n",
       "      <td>False</td>\n",
       "      <td>False</td>\n",
       "      <td>False</td>\n",
       "    </tr>\n",
       "    <tr>\n",
       "      <th>3</th>\n",
       "      <td>79</td>\n",
       "      <td>0</td>\n",
       "      <td>1</td>\n",
       "      <td>0</td>\n",
       "      <td>174.12</td>\n",
       "      <td>24.0</td>\n",
       "      <td>2</td>\n",
       "      <td>3</td>\n",
       "      <td>False</td>\n",
       "      <td>True</td>\n",
       "      <td>False</td>\n",
       "      <td>False</td>\n",
       "      <td>False</td>\n",
       "      <td>False</td>\n",
       "    </tr>\n",
       "    <tr>\n",
       "      <th>4</th>\n",
       "      <td>81</td>\n",
       "      <td>0</td>\n",
       "      <td>1</td>\n",
       "      <td>1</td>\n",
       "      <td>186.21</td>\n",
       "      <td>29.0</td>\n",
       "      <td>2</td>\n",
       "      <td>3</td>\n",
       "      <td>False</td>\n",
       "      <td>False</td>\n",
       "      <td>False</td>\n",
       "      <td>False</td>\n",
       "      <td>False</td>\n",
       "      <td>True</td>\n",
       "    </tr>\n",
       "    <tr>\n",
       "      <th>...</th>\n",
       "      <td>...</td>\n",
       "      <td>...</td>\n",
       "      <td>...</td>\n",
       "      <td>...</td>\n",
       "      <td>...</td>\n",
       "      <td>...</td>\n",
       "      <td>...</td>\n",
       "      <td>...</td>\n",
       "      <td>...</td>\n",
       "      <td>...</td>\n",
       "      <td>...</td>\n",
       "      <td>...</td>\n",
       "      <td>...</td>\n",
       "      <td>...</td>\n",
       "    </tr>\n",
       "    <tr>\n",
       "      <th>4976</th>\n",
       "      <td>41</td>\n",
       "      <td>0</td>\n",
       "      <td>0</td>\n",
       "      <td>0</td>\n",
       "      <td>70.15</td>\n",
       "      <td>29.8</td>\n",
       "      <td>0</td>\n",
       "      <td>2</td>\n",
       "      <td>False</td>\n",
       "      <td>False</td>\n",
       "      <td>False</td>\n",
       "      <td>False</td>\n",
       "      <td>False</td>\n",
       "      <td>True</td>\n",
       "    </tr>\n",
       "    <tr>\n",
       "      <th>4977</th>\n",
       "      <td>40</td>\n",
       "      <td>0</td>\n",
       "      <td>1</td>\n",
       "      <td>1</td>\n",
       "      <td>191.15</td>\n",
       "      <td>31.1</td>\n",
       "      <td>0</td>\n",
       "      <td>3</td>\n",
       "      <td>False</td>\n",
       "      <td>False</td>\n",
       "      <td>False</td>\n",
       "      <td>False</td>\n",
       "      <td>False</td>\n",
       "      <td>False</td>\n",
       "    </tr>\n",
       "    <tr>\n",
       "      <th>4978</th>\n",
       "      <td>45</td>\n",
       "      <td>0</td>\n",
       "      <td>1</td>\n",
       "      <td>0</td>\n",
       "      <td>95.02</td>\n",
       "      <td>31.8</td>\n",
       "      <td>0</td>\n",
       "      <td>2</td>\n",
       "      <td>False</td>\n",
       "      <td>False</td>\n",
       "      <td>False</td>\n",
       "      <td>False</td>\n",
       "      <td>False</td>\n",
       "      <td>False</td>\n",
       "    </tr>\n",
       "    <tr>\n",
       "      <th>4979</th>\n",
       "      <td>40</td>\n",
       "      <td>0</td>\n",
       "      <td>1</td>\n",
       "      <td>0</td>\n",
       "      <td>83.94</td>\n",
       "      <td>30.0</td>\n",
       "      <td>0</td>\n",
       "      <td>2</td>\n",
       "      <td>False</td>\n",
       "      <td>False</td>\n",
       "      <td>False</td>\n",
       "      <td>False</td>\n",
       "      <td>False</td>\n",
       "      <td>False</td>\n",
       "    </tr>\n",
       "    <tr>\n",
       "      <th>4980</th>\n",
       "      <td>80</td>\n",
       "      <td>0</td>\n",
       "      <td>1</td>\n",
       "      <td>1</td>\n",
       "      <td>83.75</td>\n",
       "      <td>29.1</td>\n",
       "      <td>2</td>\n",
       "      <td>2</td>\n",
       "      <td>False</td>\n",
       "      <td>False</td>\n",
       "      <td>False</td>\n",
       "      <td>False</td>\n",
       "      <td>False</td>\n",
       "      <td>False</td>\n",
       "    </tr>\n",
       "  </tbody>\n",
       "</table>\n",
       "<p>4924 rows × 14 columns</p>\n",
       "</div>"
      ],
      "text/plain": [
       "      age  heart_disease  ever_married  Residence_type  avg_glucose_level  \\\n",
       "0      67              1             1               1             228.69   \n",
       "1      80              1             1               0             105.92   \n",
       "2      49              0             1               1             171.23   \n",
       "3      79              0             1               0             174.12   \n",
       "4      81              0             1               1             186.21   \n",
       "...   ...            ...           ...             ...                ...   \n",
       "4976   41              0             0               0              70.15   \n",
       "4977   40              0             1               1             191.15   \n",
       "4978   45              0             1               0              95.02   \n",
       "4979   40              0             1               0              83.94   \n",
       "4980   80              0             1               1              83.75   \n",
       "\n",
       "       bmi  age_group  glucose_level_range  work_type_Govtjob  \\\n",
       "0     36.6          2                    3              False   \n",
       "1     32.5          2                    0              False   \n",
       "2     34.4          0                    3              False   \n",
       "3     24.0          2                    3              False   \n",
       "4     29.0          2                    3              False   \n",
       "...    ...        ...                  ...                ...   \n",
       "4976  29.8          0                    2              False   \n",
       "4977  31.1          0                    3              False   \n",
       "4978  31.8          0                    2              False   \n",
       "4979  30.0          0                    2              False   \n",
       "4980  29.1          2                    2              False   \n",
       "\n",
       "      work_type_Self-employed  work_type_Selfemployed  work_type_children  \\\n",
       "0                       False                   False               False   \n",
       "1                       False                   False               False   \n",
       "2                       False                   False               False   \n",
       "3                        True                   False               False   \n",
       "4                       False                   False               False   \n",
       "...                       ...                     ...                 ...   \n",
       "4976                    False                   False               False   \n",
       "4977                    False                   False               False   \n",
       "4978                    False                   False               False   \n",
       "4979                    False                   False               False   \n",
       "4980                    False                   False               False   \n",
       "\n",
       "      smoking_status_Unknown  smoking_status_formerly smoked  \n",
       "0                      False                            True  \n",
       "1                      False                           False  \n",
       "2                      False                           False  \n",
       "3                      False                           False  \n",
       "4                      False                            True  \n",
       "...                      ...                             ...  \n",
       "4976                   False                            True  \n",
       "4977                   False                           False  \n",
       "4978                   False                           False  \n",
       "4979                   False                           False  \n",
       "4980                   False                           False  \n",
       "\n",
       "[4924 rows x 14 columns]"
      ]
     },
     "execution_count": 37,
     "metadata": {},
     "output_type": "execute_result"
    }
   ],
   "source": [
    "X.drop(['gender', 'hypertension', 'bmi_category', 'work_type_Govt_job', 'work_type_Private',\n",
    "        'smoking_status_never smoked', 'smoking_status_smokes'], axis=1, inplace=True)\n",
    "X"
   ]
  },
  {
   "cell_type": "markdown",
   "id": "82a595fe",
   "metadata": {},
   "source": [
    "**Train and Test**\n",
    "---\n",
    "---"
   ]
  },
  {
   "cell_type": "code",
   "execution_count": 38,
   "id": "827a8342",
   "metadata": {},
   "outputs": [],
   "source": [
    "from sklearn.model_selection import train_test_split\n",
    "\n",
    "X_train, X_test, y_train, y_test = train_test_split(X, Y, stratify = Y, test_size = 0.30)"
   ]
  },
  {
   "cell_type": "code",
   "execution_count": 39,
   "id": "2adb8270",
   "metadata": {},
   "outputs": [],
   "source": [
    "from sklearn.preprocessing import MinMaxScaler\n",
    "\n",
    "scaler = MinMaxScaler()\n",
    "\n",
    "# Fit only on training data\n",
    "scaler.fit(X_train)\n",
    "\n",
    "# Transform both train and test using the same scaler\n",
    "X_train = scaler.transform(X_train)\n",
    "X_test = scaler.transform(X_test)\n"
   ]
  },
  {
   "cell_type": "markdown",
   "id": "a95fdb0f",
   "metadata": {},
   "source": [
    "**KNN Classifier**"
   ]
  },
  {
   "cell_type": "code",
   "execution_count": 40,
   "id": "8adad5ae",
   "metadata": {},
   "outputs": [
    {
     "name": "stdout",
     "output_type": "stream",
     "text": [
      "KNN Accuracy: 0.9472259810554804\n",
      "Precision: 0.1111111111111111\n",
      "Recall: 0.014084507042253521\n"
     ]
    },
    {
     "name": "stderr",
     "output_type": "stream",
     "text": [
      "C:\\Users\\sefat\\AppData\\Local\\Packages\\PythonSoftwareFoundation.Python.3.11_qbz5n2kfra8p0\\LocalCache\\local-packages\\Python311\\site-packages\\sklearn\\neighbors\\_classification.py:228: DataConversionWarning: A column-vector y was passed when a 1d array was expected. Please change the shape of y to (n_samples,), for example using ravel().\n",
      "  return self._fit(X, y)\n"
     ]
    }
   ],
   "source": [
    "from sklearn.neighbors import KNeighborsClassifier\n",
    "from sklearn.metrics import precision_score, recall_score\n",
    "\n",
    "\n",
    "knn=KNeighborsClassifier()\n",
    "\n",
    "knn.fit(X_train, y_train)\n",
    "knn_predictions = knn.predict(X_test)\n",
    "\n",
    "knn_accuracy = knn.score(X_test, y_test)\n",
    "precision = precision_score(y_test, knn_predictions)\n",
    "recall = recall_score(y_test, knn_predictions)\n",
    "\n",
    "print(\"KNN Accuracy:\", knn_accuracy)\n",
    "print(\"Precision:\", precision)\n",
    "print(\"Recall:\", recall)"
   ]
  },
  {
   "cell_type": "code",
   "execution_count": 41,
   "id": "192c53f0",
   "metadata": {},
   "outputs": [
    {
     "data": {
      "image/png": "[encoded data removed]",
      "text/plain": [
       "<Figure size 600x600 with 2 Axes>"
      ]
     },
     "metadata": {},
     "output_type": "display_data"
    }
   ],
   "source": [
    "from sklearn.metrics import confusion_matrix\n",
    "cm = confusion_matrix(y_test, knn_predictions)\n",
    "\n",
    "plt.figure(figsize=(6, 6))\n",
    "sns.heatmap(cm, annot=True, fmt=\"d\", cmap=\"Blues\",\n",
    "            xticklabels=[\"Predicted Negative\", \"Predicted Positive\"],\n",
    "            yticklabels=[\"True Negative\", \"True Positive\"])\n",
    "plt.xlabel(\"Predicted\")\n",
    "plt.ylabel(\"True\")\n",
    "plt.title(\"Confusion Matrix for KNN\")\n",
    "plt.show()"
   ]
  },
  {
   "cell_type": "markdown",
   "id": "92c81470",
   "metadata": {},
   "source": [
    "**Random Forest Classifier**\n"
   ]
  },
  {
   "cell_type": "code",
   "execution_count": 42,
   "id": "dc02d368",
   "metadata": {},
   "outputs": [
    {
     "name": "stderr",
     "output_type": "stream",
     "text": [
      "C:\\Users\\sefat\\AppData\\Local\\Packages\\PythonSoftwareFoundation.Python.3.11_qbz5n2kfra8p0\\LocalCache\\local-packages\\Python311\\site-packages\\sklearn\\base.py:1151: DataConversionWarning: A column-vector y was passed when a 1d array was expected. Please change the shape of y to (n_samples,), for example using ravel().\n",
      "  return fit_method(estimator, *args, **kwargs)\n"
     ]
    },
    {
     "name": "stdout",
     "output_type": "stream",
     "text": [
      "Random Forest Accuracy: 0.9479025710419485\n",
      "Precision: 0.0\n",
      "Recall: 0.0\n"
     ]
    }
   ],
   "source": [
    "from sklearn.ensemble import RandomForestClassifier\n",
    "\n",
    "# Create a Random Forest classifier\n",
    "rf_classifier = RandomForestClassifier(n_estimators=100, random_state=30, class_weight='balanced')\n",
    "rf_classifier.fit(X_train, y_train)\n",
    "rf_predictions = rf_classifier.predict(X_test)\n",
    "\n",
    "# Calculation\n",
    "rf_accuracy = accuracy_score(y_test, rf_predictions)\n",
    "precision = precision_score(y_test, rf_predictions)\n",
    "recall = recall_score(y_test, rf_predictions)\n",
    "\n",
    "print(\"Random Forest Accuracy:\", rf_accuracy)\n",
    "print(\"Precision:\", precision)\n",
    "print(\"Recall:\", recall)\n"
   ]
  },
  {
   "cell_type": "code",
   "execution_count": 43,
   "id": "6ca8653b",
   "metadata": {},
   "outputs": [
    {
     "data": {
      "image/png": "[encoded data removed]",
      "text/plain": [
       "<Figure size 600x600 with 2 Axes>"
      ]
     },
     "metadata": {},
     "output_type": "display_data"
    }
   ],
   "source": [
    "cm = confusion_matrix(y_test, rf_predictions)\n",
    "\n",
    "plt.figure(figsize=(6, 6))\n",
    "sns.heatmap(cm, annot=True, fmt=\"d\", cmap=\"Blues\",\n",
    "            xticklabels=[\"Predicted Negative\", \"Predicted Positive\"],\n",
    "            yticklabels=[\"True Negative\", \"True Positive\"])\n",
    "plt.xlabel(\"Predicted\")\n",
    "plt.ylabel(\"True\")\n",
    "plt.title(\"Confusion Matrix for Random Forest\")\n",
    "plt.show()"
   ]
  },
  {
   "cell_type": "markdown",
   "id": "e5acc837",
   "metadata": {},
   "source": [
    "**SVM**"
   ]
  },
  {
   "cell_type": "code",
   "execution_count": 44,
   "id": "5f09de98",
   "metadata": {},
   "outputs": [
    {
     "name": "stdout",
     "output_type": "stream",
     "text": [
      "SVM Accuracy: 0.6928281461434371\n",
      "Precision: 0.12079207920792079\n",
      "Recall: 0.8591549295774648\n"
     ]
    },
    {
     "name": "stderr",
     "output_type": "stream",
     "text": [
      "C:\\Users\\sefat\\AppData\\Local\\Packages\\PythonSoftwareFoundation.Python.3.11_qbz5n2kfra8p0\\LocalCache\\local-packages\\Python311\\site-packages\\sklearn\\utils\\validation.py:1184: DataConversionWarning: A column-vector y was passed when a 1d array was expected. Please change the shape of y to (n_samples, ), for example using ravel().\n",
      "  y = column_or_1d(y, warn=True)\n"
     ]
    }
   ],
   "source": [
    "from sklearn.svm import SVC\n",
    "\n",
    "svm_classifier = SVC(kernel='linear',random_state=32, class_weight='balanced')\n",
    "svm_classifier.fit(X_train, y_train)\n",
    "svm_predictions = svm_classifier.predict(X_test)\n",
    "\n",
    "# Calculation\n",
    "svm_accuracy = accuracy_score(y_test, svm_predictions)\n",
    "svm_precision  = precision_score(y_test, svm_predictions)\n",
    "svm_recall = recall_score(y_test, svm_predictions)\n",
    "\n",
    "print(\"SVM Accuracy:\", svm_accuracy)\n",
    "print(\"Precision:\", svm_precision)\n",
    "print(\"Recall:\", svm_recall)"
   ]
  },
  {
   "cell_type": "code",
   "execution_count": 45,
   "id": "86b1a6d4",
   "metadata": {},
   "outputs": [
    {
     "data": {
      "image/png": "[encoded data removed]",
      "text/plain": [
       "<Figure size 600x600 with 2 Axes>"
      ]
     },
     "metadata": {},
     "output_type": "display_data"
    }
   ],
   "source": [
    "from sklearn.metrics import confusion_matrix\n",
    "cm = confusion_matrix(y_test, svm_predictions)\n",
    "\n",
    "plt.figure(figsize=(6, 6))\n",
    "sns.heatmap(cm, annot=True, fmt=\"d\", cmap=\"Blues\",\n",
    "            xticklabels=[\"Predicted Negative\", \"Predicted Positive\"],\n",
    "            yticklabels=[\"True Negative\", \"True Positive\"])\n",
    "plt.xlabel(\"Predicted\")\n",
    "plt.ylabel(\"True\")\n",
    "plt.title(\"Confusion Matrix for SVM\")\n",
    "plt.show()"
   ]
  },
  {
   "cell_type": "markdown",
   "id": "2099cb4b",
   "metadata": {},
   "source": [
    "**Decision Tree / Regression tree**"
   ]
  },
  {
   "cell_type": "code",
   "execution_count": 46,
   "id": "674fb32c",
   "metadata": {},
   "outputs": [
    {
     "name": "stdout",
     "output_type": "stream",
     "text": [
      "Decision Tree Accuracy: 0.922192151556157\n",
      "Precision: 0.16666666666666666\n",
      "Recall: 0.15492957746478872\n"
     ]
    }
   ],
   "source": [
    "from sklearn.tree import DecisionTreeClassifier\n",
    "\n",
    "dt_classifier = DecisionTreeClassifier(max_depth=100 , class_weight='balanced')\n",
    "dt_classifier.fit(X_train,y_train)\n",
    "dt_predictions = dt_classifier.predict(X_test)\n",
    "\n",
    "# Calculation\n",
    "dt_accuracy = accuracy_score(y_test, dt_predictions)\n",
    "dt_precision  = precision_score(y_test, dt_predictions)\n",
    "dt_recall = recall_score(y_test, dt_predictions)\n",
    "\n",
    "print(\"Decision Tree Accuracy:\", dt_accuracy)\n",
    "print(\"Precision:\", dt_precision)\n",
    "print(\"Recall:\", dt_recall)"
   ]
  },
  {
   "cell_type": "code",
   "execution_count": 47,
   "id": "6734add9",
   "metadata": {},
   "outputs": [
    {
     "data": {
      "image/png": "[encoded data removed]",
      "text/plain": [
       "<Figure size 600x600 with 2 Axes>"
      ]
     },
     "metadata": {},
     "output_type": "display_data"
    }
   ],
   "source": [
    "cm = confusion_matrix(y_test, dt_predictions)\n",
    "\n",
    "plt.figure(figsize=(6, 6))\n",
    "sns.heatmap(cm, annot=True, fmt=\"d\", cmap=\"Blues\",\n",
    "            xticklabels=[\"Predicted Negative\", \"Predicted Positive\"],\n",
    "            yticklabels=[\"True Negative\", \"True Positive\"])\n",
    "plt.xlabel(\"Predicted\")\n",
    "plt.ylabel(\"True\")\n",
    "plt.title(\"Confusion Matrix for Decision Tree\")\n",
    "plt.show()"
   ]
  },
  {
   "cell_type": "markdown",
   "id": "d34d3a05",
   "metadata": {},
   "source": [
    "Model Accuracy Compare "
   ]
  },
  {
   "cell_type": "code",
   "execution_count": 48,
   "id": "37f770f9",
   "metadata": {},
   "outputs": [
    {
     "data": {
      "image/png": "[encoded data removed]",
      "text/plain": [
       "<Figure size 640x480 with 1 Axes>"
      ]
     },
     "metadata": {},
     "output_type": "display_data"
    }
   ],
   "source": [
    "model_names = ['KNN', 'SVM', 'Decision Tree', 'Random Forest']\n",
    "accuracy_values = [knn_accuracy , svm_accuracy, dt_accuracy, rf_accuracy]\n",
    "\n",
    "plt.bar(model_names, accuracy_values, color='green')\n",
    "\n",
    "# Add labels and title\n",
    "plt.xlabel('Models')\n",
    "plt.ylabel('Accuracy')\n",
    "plt.title('Accuracy of Different Models')\n",
    "\n",
    "# Display the accuracy values on top of the bars\n",
    "for i, value in enumerate(accuracy_values):\n",
    "    plt.text(i, value + 0.01, f'{value:.2f}', ha='center')\n",
    "\n",
    "# Show the plot\n",
    "plt.tight_layout()\n",
    "plt.show()\n"
   ]
  },
  {
   "cell_type": "markdown",
   "id": "dd782670",
   "metadata": {},
   "source": [
    "**self note**\n",
    "---\n",
    "classifier used:\n",
    "---\n",
    "    KNN \n",
    "    Random Forest (100 estimator / 100 trees in a forest) // Best model here\n",
    "    Decision Tree (max_depth=100 / limit how deep the tree grow)\n",
    "    SVM (need to weight balanace otherwise precision and recall becomes 0)\n",
    "    "
   ]
  }
 ],
 "metadata": {
  "kernelspec": {
   "display_name": "Python 3",
   "language": "python",
   "name": "python3"
  },
  "language_info": {
   "codemirror_mode": {
    "name": "ipython",
    "version": 3
   },
   "file_extension": ".py",
   "mimetype": "text/x-python",
   "name": "python",
   "nbconvert_exporter": "python",
   "pygments_lexer": "ipython3",
   "version": "3.11.9"
  }
 },
 "nbformat": 4,
 "nbformat_minor": 5
}
